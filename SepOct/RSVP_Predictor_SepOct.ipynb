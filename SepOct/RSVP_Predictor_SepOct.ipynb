{
 "cells": [
  {
   "cell_type": "markdown",
   "metadata": {},
   "source": [
    "<img style=\"float: right;\" src=\"meetup_logo.svg\" width=200>\n",
    "\n",
    "# RSVP Predictor\n",
    "\n",
    "<i>Implementing final model to predict 'yes' RSVP count.</i>"
   ]
  },
  {
   "cell_type": "code",
   "execution_count": 9,
   "metadata": {},
   "outputs": [],
   "source": [
    "import pandas as pd\n",
    "import requests\n",
    "import json\n",
    "from my_meetup_api import meet_up_key\n",
    "from meetup_api_functions import get_group_data, get_subway_distances, clean_text, get_event_data, get_past_event_data, remove_special_chars\n",
    "import pickle\n",
    "import time\n",
    "from haversine import haversine \n",
    "import reverse_geocode\n",
    "import re\n",
    "from datetime import datetime\n",
    "from datetime import time\n",
    "import numpy as np\n",
    "import ipywidgets as widgets\n",
    "\n",
    "from final_model_predictor import get_yes_rsvp_prediction\n"
   ]
  },
  {
   "cell_type": "markdown",
   "metadata": {},
   "source": [
    "***"
   ]
  },
  {
   "cell_type": "markdown",
   "metadata": {},
   "source": [
    "### Making a prediction\n",
    "\n",
    "Input a meetup event-id and get the event name, date, group name, predicted yes-rsvps and actual rsvps. \n",
    "(Note: should only pass in past events in NYC only for best results.)"
   ]
  },
  {
   "cell_type": "code",
   "execution_count": 28,
   "metadata": {
    "scrolled": true
   },
   "outputs": [
    {
     "name": "stdout",
     "output_type": "stream",
     "text": [
      "Event Name: Ski Season Kickoff Happy Hour - September 25\n",
      "Event Date: 2018-09-25\n",
      "Group Name: The Miramar Ski Club\n",
      "Prediction: 11\n",
      "Actual: 20\n"
     ]
    }
   ],
   "source": [
    "text, df, predicted, actual = get_yes_rsvp_prediction('254537405')"
   ]
  },
  {
   "cell_type": "markdown",
   "metadata": {},
   "source": []
  },
  {
   "cell_type": "markdown",
   "metadata": {},
   "source": []
  },
  {
   "cell_type": "markdown",
   "metadata": {},
   "source": []
  },
  {
   "cell_type": "markdown",
   "metadata": {},
   "source": []
  },
  {
   "cell_type": "code",
   "execution_count": 4,
   "metadata": {},
   "outputs": [],
   "source": [
    "# example event predictions:\n",
    "# 253515865\n",
    "# lcsggqyxmbzb\n",
    "# 253605857\n",
    "# cdkmvqyzgbwb\n",
    "# xzvbhqyxnbhb\n",
    "# 254537405"
   ]
  }
 ],
 "metadata": {
  "kernelspec": {
   "display_name": "Python 3",
   "language": "python",
   "name": "python3"
  },
  "language_info": {
   "codemirror_mode": {
    "name": "ipython",
    "version": 3
   },
   "file_extension": ".py",
   "mimetype": "text/x-python",
   "name": "python",
   "nbconvert_exporter": "python",
   "pygments_lexer": "ipython3",
   "version": "3.7.1"
  }
 },
 "nbformat": 4,
 "nbformat_minor": 2
}
