{
 "cells": [
  {
   "cell_type": "markdown",
   "metadata": {},
   "source": [
    "<img style=\"float: right;\" src=\"meetup_logo.svg\" width=200>\n",
    "\n",
    "# Event Topic Modeling\n",
    "\n",
    "<i>Topic modeling on event descriptions.</i>\n",
    "\n",
    "Extracting latent topics in event descriptions to assign topic to each event. Will try using these topics to feed into models in place of the group_category, which proved not to be a very important feature (per random forest feature importance graph).\n",
    "\n",
    "Source: https://www.machinelearningplus.com/nlp/topic-modeling-gensim-python/\n",
    "\n",
    "\n",
    "***"
   ]
  },
  {
   "cell_type": "markdown",
   "metadata": {},
   "source": [
    "## 0. Import necessary libraries"
   ]
  },
  {
   "cell_type": "code",
   "execution_count": 1,
   "metadata": {},
   "outputs": [],
   "source": [
    "import nltk\n",
    "from nltk.corpus import stopwords\n",
    "\n",
    "import re\n",
    "import numpy as np\n",
    "import pandas as pd\n",
    "import pickle\n",
    "\n",
    "import gensim\n",
    "import gensim.corpora as corpora\n",
    "from gensim.utils import simple_preprocess\n",
    "from gensim.models import CoherenceModel\n",
    "\n",
    "import spacy\n",
    "\n",
    "import pyLDAvis\n",
    "import pyLDAvis.gensim \n",
    "import matplotlib.pyplot as plt\n",
    "%matplotlib inline\n",
    "\n",
    "import warnings\n",
    "warnings.filterwarnings(\"ignore\",category=DeprecationWarning)"
   ]
  },
  {
   "cell_type": "markdown",
   "metadata": {},
   "source": [
    "## 1. Data Cleaning"
   ]
  },
  {
   "cell_type": "code",
   "execution_count": 2,
   "metadata": {},
   "outputs": [],
   "source": [
    "df = pd.read_pickle('df_sepoct_events_groups_merged_cleaned.pickle')"
   ]
  },
  {
   "cell_type": "code",
   "execution_count": 3,
   "metadata": {},
   "outputs": [
    {
     "data": {
      "text/html": [
       "<div>\n",
       "<style scoped>\n",
       "    .dataframe tbody tr th:only-of-type {\n",
       "        vertical-align: middle;\n",
       "    }\n",
       "\n",
       "    .dataframe tbody tr th {\n",
       "        vertical-align: top;\n",
       "    }\n",
       "\n",
       "    .dataframe thead th {\n",
       "        text-align: right;\n",
       "    }\n",
       "</style>\n",
       "<table border=\"1\" class=\"dataframe\">\n",
       "  <thead>\n",
       "    <tr style=\"text-align: right;\">\n",
       "      <th></th>\n",
       "      <th>event_created</th>\n",
       "      <th>event_description</th>\n",
       "      <th>event_duration</th>\n",
       "      <th>event_url</th>\n",
       "      <th>fee</th>\n",
       "      <th>group</th>\n",
       "      <th>event_headcount</th>\n",
       "      <th>how_to_find_us</th>\n",
       "      <th>event_id</th>\n",
       "      <th>maybe_rsvp_count</th>\n",
       "      <th>...</th>\n",
       "      <th>group_state</th>\n",
       "      <th>group_status</th>\n",
       "      <th>group_urlname</th>\n",
       "      <th>group_visibility</th>\n",
       "      <th>group_who</th>\n",
       "      <th>group_category</th>\n",
       "      <th>group_organizer_id</th>\n",
       "      <th>group_yrs_est</th>\n",
       "      <th>group_created_date</th>\n",
       "      <th>num_past_events</th>\n",
       "    </tr>\n",
       "  </thead>\n",
       "  <tbody>\n",
       "    <tr>\n",
       "      <th>0</th>\n",
       "      <td>1535391367000</td>\n",
       "      <td>Join us in person or tune in online! Livestrea...</td>\n",
       "      <td>120.0</td>\n",
       "      <td>https://www.meetup.com/Build-with-Code-New-Yor...</td>\n",
       "      <td>0.0</td>\n",
       "      <td>{'join_mode': 'open', 'created': 1484876702000...</td>\n",
       "      <td>0</td>\n",
       "      <td>Please come to second floor/ stream online at ...</td>\n",
       "      <td>254149786</td>\n",
       "      <td>0</td>\n",
       "      <td>...</td>\n",
       "      <td>NY</td>\n",
       "      <td>active</td>\n",
       "      <td>Build-with-Code-New-York</td>\n",
       "      <td>public</td>\n",
       "      <td>Engineers</td>\n",
       "      <td>tech</td>\n",
       "      <td>218119162</td>\n",
       "      <td>2.276969</td>\n",
       "      <td>01/20/2017 01:45:02</td>\n",
       "      <td>38</td>\n",
       "    </tr>\n",
       "  </tbody>\n",
       "</table>\n",
       "<p>1 rows × 58 columns</p>\n",
       "</div>"
      ],
      "text/plain": [
       "   event_created                                  event_description  \\\n",
       "0  1535391367000  Join us in person or tune in online! Livestrea...   \n",
       "\n",
       "   event_duration                                          event_url  fee  \\\n",
       "0           120.0  https://www.meetup.com/Build-with-Code-New-Yor...  0.0   \n",
       "\n",
       "                                               group  event_headcount  \\\n",
       "0  {'join_mode': 'open', 'created': 1484876702000...                0   \n",
       "\n",
       "                                      how_to_find_us   event_id  \\\n",
       "0  Please come to second floor/ stream online at ...  254149786   \n",
       "\n",
       "   maybe_rsvp_count       ...        group_state group_status  \\\n",
       "0                 0       ...                 NY       active   \n",
       "\n",
       "              group_urlname  group_visibility  group_who  group_category  \\\n",
       "0  Build-with-Code-New-York            public  Engineers            tech   \n",
       "\n",
       "   group_organizer_id  group_yrs_est   group_created_date  num_past_events  \n",
       "0           218119162       2.276969  01/20/2017 01:45:02               38  \n",
       "\n",
       "[1 rows x 58 columns]"
      ]
     },
     "execution_count": 3,
     "metadata": {},
     "output_type": "execute_result"
    }
   ],
   "source": [
    "df.head(1)"
   ]
  },
  {
   "cell_type": "code",
   "execution_count": 4,
   "metadata": {},
   "outputs": [
    {
     "data": {
      "text/plain": [
       "Index(['event_created', 'event_description', 'event_duration', 'event_url',\n",
       "       'fee', 'group', 'event_headcount', 'how_to_find_us', 'event_id',\n",
       "       'maybe_rsvp_count', 'event_name', 'photo_url', 'event_rating',\n",
       "       'rsvp_limit', 'event_status', 'event_time', 'event_updated',\n",
       "       'utc_offset', 'event_visibility', 'waitlist_count', 'why',\n",
       "       'yes_rsvp_count', 'group_is_open', 'group_id', 'has_how_to_find',\n",
       "       'has_rsvp_limit', 'event_num_words', 'has_photo', 'venue_latlon',\n",
       "       'time_datetime', 'time_m_d_y', 'day_of_week', 'event_hour',\n",
       "       'event_hour_group', 'subway_distances', 'num_close_subways',\n",
       "       'has_event_fee', 'created_to_event_days', 'group_created',\n",
       "       'group_description', 'group_join_mode', 'group_lat', 'group_link',\n",
       "       'localized_country_name', 'localized_location', 'group_lon',\n",
       "       'num_members', 'group_name', 'group_state', 'group_status',\n",
       "       'group_urlname', 'group_visibility', 'group_who', 'group_category',\n",
       "       'group_organizer_id', 'group_yrs_est', 'group_created_date',\n",
       "       'num_past_events'],\n",
       "      dtype='object')"
      ]
     },
     "execution_count": 4,
     "metadata": {},
     "output_type": "execute_result"
    }
   ],
   "source": [
    "df.columns"
   ]
  },
  {
   "cell_type": "markdown",
   "metadata": {},
   "source": [
    "We'll work with just a subset of the events data: event_name, event_description, group_name, group_category."
   ]
  },
  {
   "cell_type": "code",
   "execution_count": 5,
   "metadata": {},
   "outputs": [
    {
     "data": {
      "text/html": [
       "<div>\n",
       "<style scoped>\n",
       "    .dataframe tbody tr th:only-of-type {\n",
       "        vertical-align: middle;\n",
       "    }\n",
       "\n",
       "    .dataframe tbody tr th {\n",
       "        vertical-align: top;\n",
       "    }\n",
       "\n",
       "    .dataframe thead th {\n",
       "        text-align: right;\n",
       "    }\n",
       "</style>\n",
       "<table border=\"1\" class=\"dataframe\">\n",
       "  <thead>\n",
       "    <tr style=\"text-align: right;\">\n",
       "      <th></th>\n",
       "      <th>event_name</th>\n",
       "      <th>event_description</th>\n",
       "      <th>group_name</th>\n",
       "      <th>group_category</th>\n",
       "    </tr>\n",
       "  </thead>\n",
       "  <tbody>\n",
       "    <tr>\n",
       "      <th>0</th>\n",
       "      <td>JavaScript The Easier Parts: Objects, Function...</td>\n",
       "      <td>Join us in person or tune in online! Livestrea...</td>\n",
       "      <td>Build with Code - New York City</td>\n",
       "      <td>tech</td>\n",
       "    </tr>\n",
       "  </tbody>\n",
       "</table>\n",
       "</div>"
      ],
      "text/plain": [
       "                                          event_name  \\\n",
       "0  JavaScript The Easier Parts: Objects, Function...   \n",
       "\n",
       "                                   event_description  \\\n",
       "0  Join us in person or tune in online! Livestrea...   \n",
       "\n",
       "                        group_name group_category  \n",
       "0  Build with Code - New York City           tech  "
      ]
     },
     "execution_count": 5,
     "metadata": {},
     "output_type": "execute_result"
    }
   ],
   "source": [
    "# create new dataframe with just the data we need\n",
    "df_subset = df[['event_name','event_description', 'group_name', 'group_category']]\n",
    "df_subset.head(1)"
   ]
  },
  {
   "cell_type": "code",
   "execution_count": 6,
   "metadata": {},
   "outputs": [],
   "source": [
    "# put all of our 'documents' (i.e. each event_description) into a list to make our corpus\n",
    "data = df_subset.event_description.values.tolist()"
   ]
  },
  {
   "cell_type": "code",
   "execution_count": 7,
   "metadata": {},
   "outputs": [
    {
     "name": "stdout",
     "output_type": "stream",
     "text": [
      "There are 25424 observations in the corpus.\n"
     ]
    }
   ],
   "source": [
    "print(f'There are {len(data)} observations in the corpus.')"
   ]
  },
  {
   "cell_type": "markdown",
   "metadata": {},
   "source": [
    "Use regex to clean up event description. Specifically, remove urls and email addresses."
   ]
  },
  {
   "cell_type": "code",
   "execution_count": 8,
   "metadata": {},
   "outputs": [],
   "source": [
    "# remove urls starting with http or https\n",
    "data = [re.sub('(http|https)\\:\\/\\/[a-zA-Z0-9\\-\\.]+\\.[a-zA-Z]{2,3}(\\/\\S*)?', '', d) for d in data]\n",
    "\n",
    "# further remove urls starting with www\n",
    "data = [re.sub('(www)\\.[a-zA-Z0-9\\-\\.]+\\.[a-zA-Z]{2,3}(\\/\\S*)?', '', d) for d in data] \n",
    "\n",
    "# remove emails\n",
    "data = [re.sub('\\S*@\\S*\\s?', '', d) for d in data]\n",
    "\n",
    "# remove .com text\n",
    "data = [re.sub('[a-zA-Z0-9]+(\\.com)', '', d) for d in data] \n",
    "\n",
    "# remove time\n",
    "data = [re.sub('([0-9]+\\:+[0-9]*)', '', d) for d in data]"
   ]
  },
  {
   "cell_type": "code",
   "execution_count": 9,
   "metadata": {},
   "outputs": [
    {
     "data": {
      "text/plain": [
       "\"Please tune into the stream here:  Do you want to build applications and learn to code in JavaScript? Perhaps you've attended JavaScript the Hard Parts and want to start building full applications. Or, perhaps you've been building applications for some time or working though fundamentals of functional and object oriented programming in JS and want to discover what it takes to become a full-stack software engineer In this free information session, members of the Codesmith team and community will answer questions on their experience at Codesmith and share advice on the journey to becoming a software engineer As part of an open QA we will discuss: • Why we teach JavaScript, Computer Science, React and Node • Why Codesmith emphasizes working on production code • What hiring support does Codesmith provide • How to get started and go under-the-hood with JavaScript • What is the experience of learning and building at Codesmith  Schedule - PM: Info Session - PM: QA ft. panel of current Codesmith students Codesmith Homepage (\""
      ]
     },
     "execution_count": 9,
     "metadata": {},
     "output_type": "execute_result"
    }
   ],
   "source": [
    "# view a cleaned event_description\n",
    "data[10]"
   ]
  },
  {
   "cell_type": "markdown",
   "metadata": {},
   "source": [
    "There's still more to clean - will use ```simple_process()``` to remove punctuations and other characters that are not needed while tokenizing the text as well. Setting ```deacc=True``` to ensure punctuations are removed."
   ]
  },
  {
   "cell_type": "code",
   "execution_count": 10,
   "metadata": {},
   "outputs": [
    {
     "name": "stdout",
     "output_type": "stream",
     "text": [
      "[['join', 'us', 'in', 'person', 'or', 'tune', 'in', 'online', 'livestream', 'get', 'started', 'now', 'on', 'challenges', 'related', 'to', 'these', 'topics', 'on', 'our', 'free', 'online', 'learning', 'platform', 'csx', 'during', 'this', 'workshop', 'we', 'will', 'cover', 'what', 'happens', 'when', 'our', 'code', 'runs', 'in', 'the', 'browser', 'closer', 'look', 'at', 'objects', 'reusing', 'our', 'logic', 'declaring', 'invoking', 'functions', 'these', 'concepts', 'are', 'the', 'foundation', 'of', 'all', 'web', 'development', 'we', 'will', 'cover', 'them', 'under', 'the', 'hood', 'so', 'you', 'can', 'confidently', 'use', 'them', 'as', 'you', 'work', 'on', 'harder', 'concepts', 'to', 'come', 'schedule', 'pm', 'meet', 'your', 'future', 'pair', 'programming', 'partner', 'pm', 'core', 'javascript', 'concept', 'for', 'the', 'challenge', 'and', 'introduction', 'to', 'the', 'secret', 'hack', 'for', 'learning', 'to', 'code', 'pair', 'programming', 'pm', 'pair', 'programming', 'bring', 'friend', 'who', 'like', 'to', 'build', 'and', 'you', 'can', 'pair', 'program', 'together', 'price', 'always', 'free', 'for', 'those', 'online', 'please', 'join', 'the', 'stream', 'here', 'livestream']]\n"
     ]
    }
   ],
   "source": [
    "def sentence_to_words(sentences):\n",
    "    for sen in sentences:\n",
    "        yield(gensim.utils.simple_preprocess(str(sen), deacc=True))\n",
    "\n",
    "data_words = list(sentence_to_words(data))\n",
    "\n",
    "print(data_words[:1])"
   ]
  },
  {
   "cell_type": "markdown",
   "metadata": {},
   "source": [
    "How that we have cleaned tokens, we can put together a bigram model to see which two words occur together most frequently to gain a deeper understanding of the document's topics."
   ]
  },
  {
   "cell_type": "code",
   "execution_count": 11,
   "metadata": {},
   "outputs": [
    {
     "name": "stdout",
     "output_type": "stream",
     "text": [
      "['please', 'register', 'for', 'and', 'tune', 'into', 'the', 'stream', 'here', 'this', 'week', 'for', 'javascript', 'the', 'hard_parts', 'we', 'cover_callbacks', 'and', 'higher_order', 'functions', 'this', 'includes', 'how', 'to', 'handle', 'or', 'recreate', 'the', 'functions', 'map_reduce', 'foreach', 'this', 'is', 'concept', 'that', 'of', 'javascript_engineers', 'do', 'not', 'understand', 'but', 'are', 'at', 'the', 'core', 'of', 'every', 'single', 'successful_application', 'this', 'is', 'possible', 'because', 'we', 'll', 'understand', 'the', 'essence', 'of', 'these_tough', 'concepts', 'and', 'then', 'switch', 'into', 'pair_programming', 'through', 'the', 'challenges', 'to', 'cement', 'the', 'concepts', 'schedule', 'pm', 'meet', 'your', 'future', 'pair_programming', 'partner', 'pm', 'core_javascript', 'concept', 'for', 'the', 'challenge', 'and', 'introduction', 'to', 'the', 'secret_hack', 'for', 'learning', 'to', 'code', 'pair_programming', 'pm', 'pair_programming', 'sign', 'in', 'with', 'friend', 'so', 'you', 'can', 'pair', 'program', 'together', 'price', 'always', 'free']\n"
     ]
    }
   ],
   "source": [
    "# building bigram model\n",
    "bigram = gensim.models.Phrases(data_words, min_count=5, threshold=50) # higher threshold fewer phrases.\n",
    "\n",
    "# quicker way to get bigram\n",
    "bigram_model = gensim.models.phrases.Phraser(bigram)\n",
    "\n",
    "# bigram example\n",
    "print(bigram_model[data_words[2000]])"
   ]
  },
  {
   "cell_type": "code",
   "execution_count": 12,
   "metadata": {},
   "outputs": [
    {
     "name": "stdout",
     "output_type": "stream",
     "text": [
      "['purchase', 'online', 'celebrate', 'no', 'work', 'monday', 'at', 'our', 'annual_labor', 'day_eve', 'yacht_cruise', 'this', 'will', 'be', 'out', 'last', 'singles', 'yacht_cruise', 'of', 'the', 'year', 'so', 'don', 'miss', 'it', 'mix_mingle', 'drink', 'dance', 'the', 'night', 'away', 'with', 'multi', 'meetup', 'groups', 'while', 'enjoying', 'panoramic_view', 'of', 'nyc', 'skyline', 'on', 'foot', 'long', 'deck', 'private', 'yacht', 'what', 'included', 'light_appetizers', 'dj', 'ice_breakers', 'cash', 'bar', 'prizes', 'singles', 'we', 'already', 'have', 'members', 'prepaid', 'for', 'this', 'cruise', 'and', 'only', 'tickets', 'left', 'this', 'will', 'sell', 'out', 'quickly', 'so', 'get', 'your', 'tickets', 'today', 'the', 'boat', 'will', 'sail_rain', 'or', 'shine', 'the', 'boat', 'has', 'two', 'levels', 'the', 'main_level', 'is', 'air_conditioned', 'and', 'enclosed', 'and', 'there', 'is', 'an', 'outside_deck', 'on', 'the', 'second_level', 'boarding_starts', 'at', 'pm', 'the', 'boat', 'will', 'depart', 'at', 'pm', 'please', 'arrive', 'on', 'time', 'if', 'you', 'arrive', 'minutes', 'late', 'the', 'boat', 'will', 'be', 'gone', 'there', 'is', 'paid_parking', 'at', 'the', 'marina', 'or', 'you', 'can', 'try', 'to', 'find', 'parking', 'on', 'the', 'street', 'to', 'get', 'street', 'parking', 'please', 'arrive', 'early', 'to', 'look', 'around', 'by', 'subway', 'take', 'lines', 'to', 'rd', 'street', 'walk_blocks', 'east', 'the', 'marina', 'will', 'be', 'in', 'front', 'of', 'you', 'there', 'is', 'no', 'strict', 'dress', 'code', 'but', 'we', 'recommend', 'neat', 'casual', 'it', 'is', 'intended', 'for', 'singles', 'only', 'this', 'is', 'not', 'an', 'ethnic_specific', 'event', 'you', 'must', 'get', 'your', 'ticket', 'in', 'advance', 'rsvping_without', 'pre', 'payment', 'will', 'not', 'get', 'you', 'into', 'the', 'event', 'we', 're_expecting', 'sell', 'out', 'tickets', 'are', 'only', 'refundable', 'if', 'cruise', 'is', 'canceled', 'of', 'rsvp', 'reflect', 'only', 'portion', 'of', 'those', 'attending', 'groups', 'are', 'co_organizing', 'members', 'will', 'be', 'attending', 'prepay', 'only', 'price', 'goes', 'up', 'to', 'as', 'event', 'gets_closer', 'must', 'purchase', 'in', 'advance', 'not', 'sold', 'at', 'door']\n"
     ]
    }
   ],
   "source": [
    "print(bigram_model[data_words[500]])"
   ]
  },
  {
   "cell_type": "code",
   "execution_count": 13,
   "metadata": {},
   "outputs": [],
   "source": [
    "# make sure we have our stopwords\n",
    "stop_words = stopwords.words('english')\n",
    "stop_words.extend(['join', 'meet', 'event', 'attend', 'time', 'day', 'week', 'group','pm', 'am',\n",
    "                  'nyc', 'new', 'york', 'rsvp', 'come', 'register', 'contact','welcome','member', 'session',\n",
    "                  'schedule', 'get', 'meetup', 'st', 'rd', 'ave', 'th'])"
   ]
  },
  {
   "cell_type": "code",
   "execution_count": 14,
   "metadata": {},
   "outputs": [
    {
     "data": {
      "text/plain": [
       "205"
      ]
     },
     "execution_count": 14,
     "metadata": {},
     "output_type": "execute_result"
    }
   ],
   "source": [
    "len(list(set(stop_words)))"
   ]
  },
  {
   "cell_type": "code",
   "execution_count": 15,
   "metadata": {},
   "outputs": [
    {
     "data": {
      "text/plain": [
       "['i',\n",
       " 'me',\n",
       " 'my',\n",
       " 'myself',\n",
       " 'we',\n",
       " 'our',\n",
       " 'ours',\n",
       " 'ourselves',\n",
       " 'you',\n",
       " \"you're\",\n",
       " \"you've\",\n",
       " \"you'll\",\n",
       " \"you'd\",\n",
       " 'your',\n",
       " 'yours',\n",
       " 'yourself',\n",
       " 'yourselves',\n",
       " 'he',\n",
       " 'him',\n",
       " 'his',\n",
       " 'himself',\n",
       " 'she',\n",
       " \"she's\",\n",
       " 'her',\n",
       " 'hers',\n",
       " 'herself',\n",
       " 'it',\n",
       " \"it's\",\n",
       " 'its',\n",
       " 'itself',\n",
       " 'they',\n",
       " 'them',\n",
       " 'their',\n",
       " 'theirs',\n",
       " 'themselves',\n",
       " 'what',\n",
       " 'which',\n",
       " 'who',\n",
       " 'whom',\n",
       " 'this',\n",
       " 'that',\n",
       " \"that'll\",\n",
       " 'these',\n",
       " 'those',\n",
       " 'am',\n",
       " 'is',\n",
       " 'are',\n",
       " 'was',\n",
       " 'were',\n",
       " 'be',\n",
       " 'been',\n",
       " 'being',\n",
       " 'have',\n",
       " 'has',\n",
       " 'had',\n",
       " 'having',\n",
       " 'do',\n",
       " 'does',\n",
       " 'did',\n",
       " 'doing',\n",
       " 'a',\n",
       " 'an',\n",
       " 'the',\n",
       " 'and',\n",
       " 'but',\n",
       " 'if',\n",
       " 'or',\n",
       " 'because',\n",
       " 'as',\n",
       " 'until',\n",
       " 'while',\n",
       " 'of',\n",
       " 'at',\n",
       " 'by',\n",
       " 'for',\n",
       " 'with',\n",
       " 'about',\n",
       " 'against',\n",
       " 'between',\n",
       " 'into',\n",
       " 'through',\n",
       " 'during',\n",
       " 'before',\n",
       " 'after',\n",
       " 'above',\n",
       " 'below',\n",
       " 'to',\n",
       " 'from',\n",
       " 'up',\n",
       " 'down',\n",
       " 'in',\n",
       " 'out',\n",
       " 'on',\n",
       " 'off',\n",
       " 'over',\n",
       " 'under',\n",
       " 'again',\n",
       " 'further',\n",
       " 'then',\n",
       " 'once',\n",
       " 'here',\n",
       " 'there',\n",
       " 'when',\n",
       " 'where',\n",
       " 'why',\n",
       " 'how',\n",
       " 'all',\n",
       " 'any',\n",
       " 'both',\n",
       " 'each',\n",
       " 'few',\n",
       " 'more',\n",
       " 'most',\n",
       " 'other',\n",
       " 'some',\n",
       " 'such',\n",
       " 'no',\n",
       " 'nor',\n",
       " 'not',\n",
       " 'only',\n",
       " 'own',\n",
       " 'same',\n",
       " 'so',\n",
       " 'than',\n",
       " 'too',\n",
       " 'very',\n",
       " 's',\n",
       " 't',\n",
       " 'can',\n",
       " 'will',\n",
       " 'just',\n",
       " 'don',\n",
       " \"don't\",\n",
       " 'should',\n",
       " \"should've\",\n",
       " 'now',\n",
       " 'd',\n",
       " 'll',\n",
       " 'm',\n",
       " 'o',\n",
       " 're',\n",
       " 've',\n",
       " 'y',\n",
       " 'ain',\n",
       " 'aren',\n",
       " \"aren't\",\n",
       " 'couldn',\n",
       " \"couldn't\",\n",
       " 'didn',\n",
       " \"didn't\",\n",
       " 'doesn',\n",
       " \"doesn't\",\n",
       " 'hadn',\n",
       " \"hadn't\",\n",
       " 'hasn',\n",
       " \"hasn't\",\n",
       " 'haven',\n",
       " \"haven't\",\n",
       " 'isn',\n",
       " \"isn't\",\n",
       " 'ma',\n",
       " 'mightn',\n",
       " \"mightn't\",\n",
       " 'mustn',\n",
       " \"mustn't\",\n",
       " 'needn',\n",
       " \"needn't\",\n",
       " 'shan',\n",
       " \"shan't\",\n",
       " 'shouldn',\n",
       " \"shouldn't\",\n",
       " 'wasn',\n",
       " \"wasn't\",\n",
       " 'weren',\n",
       " \"weren't\",\n",
       " 'won',\n",
       " \"won't\",\n",
       " 'wouldn',\n",
       " \"wouldn't\",\n",
       " 'join',\n",
       " 'meet',\n",
       " 'event',\n",
       " 'attend',\n",
       " 'time',\n",
       " 'day',\n",
       " 'week',\n",
       " 'group',\n",
       " 'pm',\n",
       " 'am',\n",
       " 'nyc',\n",
       " 'new',\n",
       " 'york',\n",
       " 'rsvp',\n",
       " 'come',\n",
       " 'register',\n",
       " 'contact',\n",
       " 'welcome',\n",
       " 'member',\n",
       " 'session',\n",
       " 'schedule',\n",
       " 'get',\n",
       " 'meetup',\n",
       " 'st',\n",
       " 'rd',\n",
       " 'ave',\n",
       " 'th']"
      ]
     },
     "execution_count": 15,
     "metadata": {},
     "output_type": "execute_result"
    }
   ],
   "source": [
    "stop_words"
   ]
  },
  {
   "cell_type": "markdown",
   "metadata": {},
   "source": [
    "Before we move forward, will need to remove stopwords and lemmatize words before making bigrams."
   ]
  },
  {
   "cell_type": "code",
   "execution_count": 16,
   "metadata": {},
   "outputs": [],
   "source": [
    "# helper functions\n",
    "def remove_stopwords(texts):\n",
    "    return [[word for word in simple_preprocess(str(doc)) if word not in stop_words] for doc in texts]\n",
    "\n",
    "def make_bigrams(texts):\n",
    "    return [bigram_model[doc] for doc in texts]\n",
    "\n",
    "def lemmatization(texts,allowed_postags=['NOUN', 'ADJ', 'VERB', 'ADV']):\n",
    "    \"\"\"https://spacy.io/api/annotation\"\"\"\n",
    "    texts_out = []\n",
    "    for sent in texts:\n",
    "        doc = nlp(\" \".join(sent)) \n",
    "        texts_out.append([token.lemma_ for token in doc if token.pos_ in allowed_postags])\n",
    "    return texts_out"
   ]
  },
  {
   "cell_type": "markdown",
   "metadata": {},
   "source": [
    "Try out the functions above."
   ]
  },
  {
   "cell_type": "code",
   "execution_count": 17,
   "metadata": {},
   "outputs": [],
   "source": [
    "# !python3 -m spacy download en"
   ]
  },
  {
   "cell_type": "code",
   "execution_count": 18,
   "metadata": {},
   "outputs": [
    {
     "name": "stdout",
     "output_type": "stream",
     "text": [
      "[['person', 'tune', 'online', 'livestream', 'start', 'challenges_relat', 'topic', 'free', 'online', 'learn', 'workshop', 'cover', 'happen', 'code', 'run', 'browser', 'close', 'look', 'objects_reus', 'logic_declar', 'invoking_function', 'concept', 'foundation', 'web_development', 'cover', 'hood', 'confidently_use', 'work', 'harder_concept', 'future', 'pair_programm', 'partner', 'core_javascript', 'concept', 'challenge', 'introduction', 'secret_hack', 'learn', 'code', 'pair_programm', 'pair_programming', 'bring', 'friend', 'build', 'pair', 'program', 'together', 'price', 'always', 'free', 'online', 'stream', 'livestream']]\n"
     ]
    }
   ],
   "source": [
    "# Remove Stop Words\n",
    "data_words_stopped = remove_stopwords(data_words)\n",
    "\n",
    "# Form Bigrams\n",
    "data_words_bigrams = make_bigrams(data_words_stopped)\n",
    "\n",
    "# Initialize spacy 'en' model, keeping only tagger component (for efficiency)\n",
    "nlp = spacy.load('en', disable=['parser', 'ner'])\n",
    "\n",
    "# Do lemmatization keeping only noun, adj, vb, adv\n",
    "data_lemmatized = lemmatization(data_words_bigrams)\n",
    "\n",
    "print(data_lemmatized[:1])"
   ]
  },
  {
   "cell_type": "markdown",
   "metadata": {},
   "source": [
    "In order to work with LDA topic model, we'll need to create a dictionary and our corpus. The results of the corpus will be a tuple with ```(word_id, word_frequency)```."
   ]
  },
  {
   "cell_type": "code",
   "execution_count": 19,
   "metadata": {},
   "outputs": [
    {
     "name": "stdout",
     "output_type": "stream",
     "text": [
      "[[(0, 1), (1, 1), (2, 1), (3, 1), (4, 1), (5, 1), (6, 1), (7, 2), (8, 2), (9, 1), (10, 1), (11, 2), (12, 1), (13, 2), (14, 1), (15, 1), (16, 1), (17, 1), (18, 1), (19, 1), (20, 1), (21, 2), (22, 2), (23, 1), (24, 1), (25, 1), (26, 3), (27, 1), (28, 2), (29, 1), (30, 1), (31, 1), (32, 1), (33, 1), (34, 1), (35, 1), (36, 1), (37, 1), (38, 1), (39, 1), (40, 1), (41, 1), (42, 1), (43, 1)]]\n",
      "always\n"
     ]
    },
    {
     "data": {
      "text/plain": [
       "[[('always', 1),\n",
       "  ('bring', 1),\n",
       "  ('browser', 1),\n",
       "  ('build', 1),\n",
       "  ('challenge', 1),\n",
       "  ('challenges_relat', 1),\n",
       "  ('close', 1),\n",
       "  ('code', 2),\n",
       "  ('concept', 2),\n",
       "  ('confidently_use', 1),\n",
       "  ('core_javascript', 1),\n",
       "  ('cover', 2),\n",
       "  ('foundation', 1),\n",
       "  ('free', 2),\n",
       "  ('friend', 1),\n",
       "  ('future', 1),\n",
       "  ('happen', 1),\n",
       "  ('harder_concept', 1),\n",
       "  ('hood', 1),\n",
       "  ('introduction', 1),\n",
       "  ('invoking_function', 1),\n",
       "  ('learn', 2),\n",
       "  ('livestream', 2),\n",
       "  ('logic_declar', 1),\n",
       "  ('look', 1),\n",
       "  ('objects_reus', 1),\n",
       "  ('online', 3),\n",
       "  ('pair', 1),\n",
       "  ('pair_programm', 2),\n",
       "  ('pair_programming', 1),\n",
       "  ('partner', 1),\n",
       "  ('person', 1),\n",
       "  ('price', 1),\n",
       "  ('program', 1),\n",
       "  ('run', 1),\n",
       "  ('secret_hack', 1),\n",
       "  ('start', 1),\n",
       "  ('stream', 1),\n",
       "  ('together', 1),\n",
       "  ('topic', 1),\n",
       "  ('tune', 1),\n",
       "  ('web_development', 1),\n",
       "  ('work', 1),\n",
       "  ('workshop', 1)]]"
      ]
     },
     "execution_count": 19,
     "metadata": {},
     "output_type": "execute_result"
    }
   ],
   "source": [
    "# Create Dictionary\n",
    "id2word = corpora.Dictionary(data_lemmatized)\n",
    "\n",
    "# Create Corpus\n",
    "texts = data_lemmatized\n",
    "\n",
    "# Term Document Frequency\n",
    "corpus = [id2word.doc2bow(text) for text in texts]\n",
    "\n",
    "# View\n",
    "print(corpus[:1])\n",
    "\n",
    "# to get the actual word for a given word_id: id2word[word_id]\n",
    "print(id2word[0])\n",
    "\n",
    "# for a fuller picture of the corpus\n",
    "[[(id2word[id], freq) for id, freq in cp] for cp in corpus[:1]]"
   ]
  },
  {
   "cell_type": "markdown",
   "metadata": {},
   "source": [
    "Build the LDA Model. Based on the coherence score test, 8 topics generated the highest coherence score so we'll use that as our final LDA model."
   ]
  },
  {
   "cell_type": "code",
   "execution_count": 20,
   "metadata": {},
   "outputs": [],
   "source": [
    "lda_model_8 = gensim.models.ldamodel.LdaModel(corpus=corpus,\n",
    "                                           id2word=id2word,\n",
    "                                           num_topics=8, \n",
    "                                           random_state=100,\n",
    "                                           update_every=1,\n",
    "                                           chunksize=100,\n",
    "                                           passes=5,\n",
    "                                           alpha='auto',\n",
    "                                           per_word_topics=True)"
   ]
  },
  {
   "cell_type": "code",
   "execution_count": 21,
   "metadata": {},
   "outputs": [
    {
     "name": "stdout",
     "output_type": "stream",
     "text": [
      "[(0, '0.032*\"hike\" + 0.030*\"trip\" + 0.020*\"hiking\" + 0.019*\"columbia_university\" + 0.018*\"trail\" + 0.015*\"translation\" + 0.014*\"lunch\" + 0.012*\"drive\" + 0.011*\"masked\" + 0.011*\"mile\"'), (1, '0.042*\"dance\" + 0.032*\"free\" + 0.027*\"party\" + 0.016*\"mask\" + 0.016*\"tango\" + 0.014*\"drink\" + 0.014*\"city\" + 0.012*\"dress\" + 0.012*\"friend\" + 0.011*\"floor\"'), (2, '0.012*\"energy\" + 0.011*\"life\" + 0.010*\"meditation\" + 0.010*\"year\" + 0.008*\"body\" + 0.008*\"experience\" + 0.008*\"healing\" + 0.007*\"work\" + 0.006*\"world\" + 0.006*\"create\"'), (3, '0.011*\"rain\" + 0.010*\"park\" + 0.010*\"take\" + 0.008*\"mask\" + 0.008*\"include\" + 0.008*\"street\" + 0.008*\"go\" + 0.007*\"site\" + 0.007*\"see\" + 0.007*\"enjoy\"'), (4, '0.020*\"people\" + 0.017*\"pay\" + 0.015*\"great\" + 0.015*\"fun\" + 0.014*\"member\" + 0.013*\"attend\" + 0.012*\"ticket\" + 0.011*\"must\" + 0.011*\"purchase\" + 0.011*\"age\"'), (5, '0.036*\"class\" + 0.015*\"practice\" + 0.013*\"learn\" + 0.013*\"free\" + 0.011*\"level\" + 0.008*\"october\" + 0.007*\"mask\" + 0.007*\"student\" + 0.007*\"bring\" + 0.007*\"business\"'), (6, '0.041*\"ticket\" + 0.024*\"parking\" + 0.020*\"enjoy\" + 0.020*\"purchase\" + 0.016*\"street\" + 0.015*\"mix_mingle\" + 0.014*\"dance\" + 0.014*\"available\" + 0.013*\"casual\" + 0.013*\"arrive\"'), (7, '0.120*\"game\" + 0.072*\"play\" + 0.065*\"player\" + 0.034*\"movement\" + 0.032*\"must\" + 0.016*\"tennis\" + 0.016*\"lose\" + 0.016*\"team\" + 0.016*\"drill\" + 0.014*\"field\"')]\n"
     ]
    }
   ],
   "source": [
    "# Print keywords in each topic\n",
    "print(lda_model_8.print_topics())\n",
    "doc_lda_8 = lda_model_8[corpus]"
   ]
  },
  {
   "cell_type": "markdown",
   "metadata": {},
   "source": [
    "How is the model doing? Check the model perplexity and coherence score."
   ]
  },
  {
   "cell_type": "code",
   "execution_count": 22,
   "metadata": {
    "scrolled": true
   },
   "outputs": [
    {
     "name": "stdout",
     "output_type": "stream",
     "text": [
      "\n",
      "Perplexity:  -8.292147222081812\n",
      "\n",
      "Coherence Score:  0.48812218994188905\n"
     ]
    }
   ],
   "source": [
    "# Compute Perplexity\n",
    "print('\\nPerplexity: ', lda_model_8.log_perplexity(corpus))  # a measure of how good the model is. lower the better.\n",
    "\n",
    "# Compute Coherence Score (higher the better)\n",
    "coherence_model_lda = CoherenceModel(model=lda_model_8, texts=data_lemmatized, dictionary=id2word, coherence='c_v')\n",
    "coherence_lda = coherence_model_lda.get_coherence()\n",
    "print('\\nCoherence Score: ', coherence_lda)"
   ]
  },
  {
   "cell_type": "markdown",
   "metadata": {},
   "source": [
    "Visualize the topics-keywords. \n",
    "\n",
    "Each bubble on left represents a topic. Larger the buble, the more prevalent that topic is.\n",
    "\n",
    "Good topics will have larger, non-overlapping bubbles scattered across the chart instead of clustering in a quadrant. Overlapping smaller bubbles in a specific region will occur if there are too many topics."
   ]
  },
  {
   "cell_type": "code",
   "execution_count": 23,
   "metadata": {},
   "outputs": [
    {
     "name": "stderr",
     "output_type": "stream",
     "text": [
      "/Users/gracejeong/anaconda3/lib/python3.7/site-packages/pyLDAvis/_prepare.py:257: FutureWarning: Sorting because non-concatenation axis is not aligned. A future version\n",
      "of pandas will change to not sort by default.\n",
      "\n",
      "To accept the future behavior, pass 'sort=False'.\n",
      "\n",
      "To retain the current behavior and silence the warning, pass 'sort=True'.\n",
      "\n",
      "  return pd.concat([default_term_info] + list(topic_dfs))\n"
     ]
    },
    {
     "data": {
      "text/html": [
       "\n",
       "<link rel=\"stylesheet\" type=\"text/css\" href=\"https://cdn.rawgit.com/bmabey/pyLDAvis/files/ldavis.v1.0.0.css\">\n",
       "\n",
       "\n",
       "<div id=\"ldavis_el81401132018730883348050966\"></div>\n",
       "<script type=\"text/javascript\">\n",
       "\n",
       "var ldavis_el81401132018730883348050966_data = {\"mdsDat\": {\"x\": [-0.144417995801253, -0.23244120233554252, -0.1311242491238186, -0.11491215190243503, -0.04069993043790602, 0.11748160837076081, 0.28356448946203494, 0.2625494317681604], \"y\": [0.12543067735067376, -0.06318877147828761, 0.02974169165592428, -0.31707837622343427, 0.18878220429466655, 0.2052277952072807, -0.05653099730490775, -0.11238422350191567], \"topics\": [1, 2, 3, 4, 5, 6, 7, 8], \"cluster\": [1, 1, 1, 1, 1, 1, 1, 1], \"Freq\": [31.613117218017578, 25.051815032958984, 15.332330703735352, 12.6032133102417, 5.652041912078857, 5.229157447814941, 2.585008144378662, 1.9333164691925049]}, \"tinfo\": {\"Category\": [\"Default\", \"Default\", \"Default\", \"Default\", \"Default\", \"Default\", \"Default\", \"Default\", \"Default\", \"Default\", \"Default\", \"Default\", \"Default\", \"Default\", \"Default\", \"Default\", \"Default\", \"Default\", \"Default\", \"Default\", \"Default\", \"Default\", \"Default\", \"Default\", \"Default\", \"Default\", \"Default\", \"Default\", \"Default\", \"Default\", \"Topic1\", \"Topic1\", \"Topic1\", \"Topic1\", \"Topic1\", \"Topic1\", \"Topic1\", \"Topic1\", \"Topic1\", \"Topic1\", \"Topic1\", \"Topic1\", \"Topic1\", \"Topic1\", \"Topic1\", \"Topic1\", \"Topic1\", \"Topic1\", \"Topic1\", \"Topic1\", \"Topic1\", \"Topic1\", \"Topic1\", \"Topic1\", \"Topic1\", \"Topic1\", \"Topic1\", \"Topic1\", \"Topic1\", \"Topic1\", \"Topic1\", \"Topic1\", \"Topic1\", \"Topic1\", \"Topic1\", \"Topic1\", \"Topic1\", \"Topic1\", \"Topic1\", \"Topic1\", \"Topic1\", \"Topic1\", \"Topic1\", \"Topic1\", \"Topic1\", \"Topic1\", \"Topic1\", \"Topic1\", \"Topic1\", \"Topic1\", \"Topic1\", \"Topic1\", \"Topic1\", \"Topic1\", \"Topic1\", \"Topic1\", \"Topic1\", \"Topic1\", \"Topic1\", \"Topic1\", \"Topic1\", \"Topic2\", \"Topic2\", \"Topic2\", \"Topic2\", \"Topic2\", \"Topic2\", \"Topic2\", \"Topic2\", \"Topic2\", \"Topic2\", \"Topic2\", \"Topic2\", \"Topic2\", \"Topic2\", \"Topic2\", \"Topic2\", \"Topic2\", \"Topic2\", \"Topic2\", \"Topic2\", \"Topic2\", \"Topic2\", \"Topic2\", \"Topic2\", \"Topic2\", \"Topic2\", \"Topic2\", \"Topic2\", \"Topic2\", \"Topic2\", \"Topic2\", \"Topic2\", \"Topic2\", \"Topic2\", \"Topic2\", \"Topic2\", \"Topic2\", \"Topic2\", \"Topic2\", \"Topic2\", \"Topic2\", \"Topic2\", \"Topic2\", \"Topic2\", \"Topic2\", \"Topic2\", \"Topic2\", \"Topic2\", \"Topic2\", \"Topic2\", \"Topic2\", \"Topic2\", \"Topic2\", \"Topic2\", \"Topic2\", \"Topic2\", \"Topic2\", \"Topic2\", \"Topic2\", \"Topic2\", \"Topic2\", \"Topic2\", \"Topic2\", \"Topic2\", \"Topic2\", \"Topic3\", \"Topic3\", \"Topic3\", \"Topic3\", \"Topic3\", \"Topic3\", \"Topic3\", \"Topic3\", \"Topic3\", \"Topic3\", \"Topic3\", \"Topic3\", \"Topic3\", \"Topic3\", \"Topic3\", \"Topic3\", \"Topic3\", \"Topic3\", \"Topic3\", \"Topic3\", \"Topic3\", \"Topic3\", \"Topic3\", \"Topic3\", \"Topic3\", \"Topic3\", \"Topic3\", \"Topic3\", \"Topic3\", \"Topic3\", \"Topic3\", \"Topic3\", \"Topic3\", \"Topic3\", \"Topic3\", \"Topic3\", \"Topic3\", \"Topic3\", \"Topic3\", \"Topic3\", \"Topic3\", \"Topic3\", \"Topic3\", \"Topic3\", \"Topic3\", \"Topic3\", \"Topic3\", \"Topic3\", \"Topic3\", \"Topic3\", \"Topic3\", \"Topic3\", \"Topic3\", \"Topic3\", \"Topic3\", \"Topic3\", \"Topic3\", \"Topic3\", \"Topic3\", \"Topic3\", \"Topic3\", \"Topic3\", \"Topic3\", \"Topic4\", \"Topic4\", \"Topic4\", \"Topic4\", \"Topic4\", \"Topic4\", \"Topic4\", \"Topic4\", \"Topic4\", \"Topic4\", \"Topic4\", \"Topic4\", \"Topic4\", \"Topic4\", \"Topic4\", \"Topic4\", \"Topic4\", \"Topic4\", \"Topic4\", \"Topic4\", \"Topic4\", \"Topic4\", \"Topic4\", \"Topic4\", \"Topic4\", \"Topic4\", \"Topic4\", \"Topic4\", \"Topic4\", \"Topic4\", \"Topic4\", \"Topic4\", \"Topic4\", \"Topic4\", \"Topic4\", \"Topic4\", \"Topic4\", \"Topic4\", \"Topic4\", \"Topic4\", \"Topic4\", \"Topic4\", \"Topic4\", \"Topic4\", \"Topic4\", \"Topic4\", \"Topic4\", \"Topic4\", \"Topic4\", \"Topic4\", \"Topic4\", \"Topic4\", \"Topic4\", \"Topic5\", \"Topic5\", \"Topic5\", \"Topic5\", \"Topic5\", \"Topic5\", \"Topic5\", \"Topic5\", \"Topic5\", \"Topic5\", \"Topic5\", \"Topic5\", \"Topic5\", \"Topic5\", \"Topic5\", \"Topic5\", \"Topic5\", \"Topic5\", \"Topic5\", \"Topic5\", \"Topic5\", \"Topic5\", \"Topic5\", \"Topic5\", \"Topic5\", \"Topic5\", \"Topic5\", \"Topic5\", \"Topic5\", \"Topic5\", \"Topic5\", \"Topic5\", \"Topic5\", \"Topic5\", \"Topic5\", \"Topic5\", \"Topic5\", \"Topic5\", \"Topic5\", \"Topic5\", \"Topic5\", \"Topic5\", \"Topic5\", \"Topic5\", \"Topic5\", \"Topic5\", \"Topic5\", \"Topic5\", \"Topic5\", \"Topic5\", \"Topic5\", \"Topic5\", \"Topic5\", \"Topic5\", \"Topic5\", \"Topic5\", \"Topic5\", \"Topic5\", \"Topic6\", \"Topic6\", \"Topic6\", \"Topic6\", \"Topic6\", \"Topic6\", \"Topic6\", \"Topic6\", \"Topic6\", \"Topic6\", \"Topic6\", \"Topic6\", \"Topic6\", \"Topic6\", \"Topic6\", \"Topic6\", \"Topic6\", \"Topic6\", \"Topic6\", \"Topic6\", \"Topic6\", \"Topic6\", \"Topic6\", \"Topic6\", \"Topic6\", \"Topic6\", \"Topic6\", \"Topic6\", \"Topic6\", \"Topic6\", \"Topic6\", \"Topic6\", \"Topic6\", \"Topic6\", \"Topic6\", \"Topic6\", \"Topic6\", \"Topic6\", \"Topic6\", \"Topic6\", \"Topic6\", \"Topic6\", \"Topic6\", \"Topic6\", \"Topic6\", \"Topic6\", \"Topic6\", \"Topic6\", \"Topic6\", \"Topic6\", \"Topic6\", \"Topic6\", \"Topic6\", \"Topic6\", \"Topic6\", \"Topic7\", \"Topic7\", \"Topic7\", \"Topic7\", \"Topic7\", \"Topic7\", \"Topic7\", \"Topic7\", \"Topic7\", \"Topic7\", \"Topic7\", \"Topic7\", \"Topic7\", \"Topic7\", \"Topic7\", \"Topic7\", \"Topic7\", \"Topic7\", \"Topic7\", \"Topic7\", \"Topic7\", \"Topic7\", \"Topic7\", \"Topic7\", \"Topic7\", \"Topic7\", \"Topic7\", \"Topic7\", \"Topic7\", \"Topic7\", \"Topic7\", \"Topic7\", \"Topic7\", \"Topic7\", \"Topic7\", \"Topic7\", \"Topic7\", \"Topic7\", \"Topic7\", \"Topic7\", \"Topic7\", \"Topic7\", \"Topic8\", \"Topic8\", \"Topic8\", \"Topic8\", \"Topic8\", \"Topic8\", \"Topic8\", \"Topic8\", \"Topic8\", \"Topic8\", \"Topic8\", \"Topic8\", \"Topic8\", \"Topic8\", \"Topic8\", \"Topic8\", \"Topic8\", \"Topic8\", \"Topic8\", \"Topic8\", \"Topic8\", \"Topic8\", \"Topic8\", \"Topic8\", \"Topic8\", \"Topic8\", \"Topic8\", \"Topic8\", \"Topic8\", \"Topic8\", \"Topic8\", \"Topic8\", \"Topic8\", \"Topic8\", \"Topic8\", \"Topic8\", \"Topic8\", \"Topic8\", \"Topic8\", \"Topic8\", \"Topic8\", \"Topic8\", \"Topic8\", \"Topic8\"], \"Freq\": [20614.0, 6995.0, 14195.0, 10962.0, 14685.0, 9922.0, 7084.0, 4223.0, 6836.0, 3769.0, 12176.0, 5878.0, 11887.0, 8417.0, 9680.0, 7606.0, 8495.0, 7997.0, 6131.0, 9828.0, 9435.0, 11064.0, 9075.0, 17274.0, 7775.0, 7302.0, 5746.0, 5239.0, 5242.0, 11752.0, 6511.6455078125, 5542.31298828125, 4807.88232421875, 4289.5166015625, 4169.251953125, 4127.83740234375, 3744.14794921875, 3552.255126953125, 3215.15869140625, 3190.125732421875, 2907.87060546875, 2787.80029296875, 2407.180908203125, 2321.4404296875, 2295.96826171875, 2264.1171875, 2117.80029296875, 2019.96533203125, 2019.5882568359375, 1860.1927490234375, 1734.6585693359375, 1566.3092041015625, 1542.706787109375, 1536.842041015625, 1503.5048828125, 1460.8111572265625, 1401.242431640625, 1364.5899658203125, 1349.7711181640625, 1355.2388916015625, 9053.10546875, 9755.1435546875, 5438.80078125, 12049.2333984375, 7064.19482421875, 4490.30859375, 10705.3193359375, 2188.525390625, 2694.90625, 3200.75634765625, 6709.65283203125, 10357.076171875, 14442.3505859375, 7523.9208984375, 3454.131591796875, 5011.56298828125, 6250.6767578125, 6413.22119140625, 7590.55615234375, 7346.3134765625, 8006.99072265625, 4805.46630859375, 8841.02734375, 4893.876953125, 6857.08935546875, 4471.87548828125, 5115.39111328125, 5659.13720703125, 5598.44140625, 4894.57958984375, 4467.77099609375, 20613.46875, 8416.380859375, 4409.24609375, 2315.98779296875, 2089.843994140625, 2024.99560546875, 1896.7711181640625, 1797.0914306640625, 1694.5526123046875, 1676.712646484375, 1658.10009765625, 1615.7921142578125, 1569.345703125, 1514.5260009765625, 1446.2490234375, 1440.2158203125, 1397.169189453125, 1328.8642578125, 1243.4332275390625, 1170.994140625, 1156.6175537109375, 3905.12939453125, 1104.8411865234375, 1091.390625, 1090.2344970703125, 1049.12744140625, 1019.7540283203125, 1008.3709716796875, 999.5482177734375, 994.1126098632812, 995.6109619140625, 1649.2506103515625, 1683.0625, 1570.541015625, 1642.9608154296875, 1598.0054931640625, 7513.06884765625, 6288.56787109375, 2452.927001953125, 3282.0712890625, 2362.74658203125, 3782.648193359375, 3817.228515625, 2552.697021484375, 2079.72265625, 3762.615478515625, 2831.595458984375, 7069.18359375, 2295.42919921875, 3036.358154296875, 4030.016357421875, 3095.53125, 3033.516357421875, 3043.629638671875, 2981.35302734375, 2469.8076171875, 3847.939453125, 3288.2197265625, 3056.35546875, 2599.375244140625, 2589.649658203125, 2863.810302734375, 2603.16845703125, 2636.16357421875, 2487.42333984375, 3397.171142578125, 2398.117431640625, 2184.271240234375, 2106.17138671875, 1659.60791015625, 1572.632568359375, 1359.996826171875, 1332.740234375, 1320.955810546875, 1105.795654296875, 1008.2422485351562, 987.714599609375, 1016.7838745117188, 966.4252319335938, 965.5045776367188, 949.9581298828125, 918.2997436523438, 881.1450805664062, 859.5108642578125, 840.34130859375, 800.0636596679688, 804.2767944335938, 781.2289428710938, 797.52099609375, 723.6823120117188, 713.9150390625, 676.654296875, 671.6521606445312, 626.2001342773438, 623.1015625, 2573.5703125, 1008.2722778320312, 3858.802978515625, 1479.2015380859375, 1833.9232177734375, 2051.413330078125, 1655.8428955078125, 1947.1063232421875, 1945.23193359375, 1595.11767578125, 1263.61767578125, 1845.256103515625, 1482.5941162109375, 3362.6591796875, 2846.53466796875, 1686.9808349609375, 1731.8343505859375, 1498.03125, 2850.1806640625, 2421.49560546875, 1503.5948486328125, 2857.982177734375, 2511.064697265625, 2160.3232421875, 1985.8707275390625, 2202.612060546875, 2594.7763671875, 1978.8271484375, 1750.87060546875, 2316.982177734375, 1803.7723388671875, 1799.22314453125, 1735.4127197265625, 3329.395751953125, 2851.200439453125, 2150.308837890625, 1596.380126953125, 1519.1376953125, 1350.0654296875, 1270.678466796875, 1137.8846435546875, 1007.9926147460938, 971.9434814453125, 886.666259765625, 860.72607421875, 800.4127807617188, 770.116455078125, 768.3213500976562, 744.8988647460938, 735.3080444335938, 723.6882934570312, 761.4606323242188, 708.058349609375, 699.3204345703125, 677.6906127929688, 665.6367797851562, 662.9202880859375, 647.5474853515625, 638.0000610351562, 634.7677612304688, 627.1016235351562, 592.7852783203125, 586.3084716796875, 758.8616943359375, 873.8477172851562, 951.0133056640625, 1090.012451171875, 1647.2362060546875, 1775.4769287109375, 2390.147705078125, 704.5531616210938, 3242.81298828125, 2786.880615234375, 1447.799560546875, 1791.169189453125, 1820.2672119140625, 1821.579833984375, 1087.056640625, 2251.990478515625, 1860.0235595703125, 1345.21240234375, 859.1294555664062, 1460.90576171875, 1531.671875, 1047.752197265625, 950.1140747070312, 2019.4256591796875, 1219.7489013671875, 1050.2589111328125, 981.9766235351562, 909.8634643554688, 882.4586181640625, 802.6763305664062, 791.6907348632812, 644.10546875, 588.52294921875, 579.0682373046875, 565.3131103515625, 547.5143432617188, 448.6226501464844, 442.3241271972656, 441.3358154296875, 431.3133850097656, 430.5545654296875, 426.4319763183594, 425.85711669921875, 425.85711669921875, 384.2187194824219, 378.2078552246094, 352.1385498046875, 348.02130126953125, 335.6414794921875, 329.6095275878906, 308.0643005371094, 304.4654541015625, 295.6534118652344, 377.0196838378906, 5391.67919921875, 693.2822265625, 1054.6474609375, 1105.7193603515625, 1276.8157958984375, 3423.06640625, 1363.4097900390625, 4142.4052734375, 795.9105224609375, 881.0133666992188, 1229.5084228515625, 1244.1890869140625, 1351.6461181640625, 1775.1419677734375, 2052.10009765625, 1519.4393310546875, 1828.427734375, 1024.37646484375, 909.235595703125, 1485.6148681640625, 805.668701171875, 796.9065551757812, 1006.8262939453125, 961.726806640625, 865.2721557617188, 869.9625854492188, 811.0498657226562, 1803.12255859375, 1471.2340087890625, 1429.494140625, 1222.4425048828125, 1108.0513916015625, 1073.178955078125, 1018.2784423828125, 1005.3868408203125, 830.9968872070312, 821.5546264648438, 803.5826416015625, 748.7850952148438, 746.30712890625, 639.9415893554688, 616.9268188476562, 593.4205322265625, 578.1957397460938, 578.1957397460938, 562.966552734375, 558.44970703125, 553.1473388671875, 538.083740234375, 528.4310302734375, 526.0113525390625, 524.9840698242188, 522.9534301757812, 521.9151611328125, 521.716552734375, 520.3388061523438, 520.3677368164062, 520.3389282226562, 2808.31298828125, 1082.478271484375, 4777.353515625, 1537.2254638671875, 2362.166748046875, 1308.920166015625, 1936.9683837890625, 2331.037109375, 727.3516235351562, 1491.3209228515625, 1232.4940185546875, 1660.9080810546875, 1692.1644287109375, 723.6307373046875, 1434.17431640625, 1301.4371337890625, 1355.35302734375, 1233.11328125, 980.341552734375, 970.4585571289062, 919.417236328125, 957.819580078125, 913.854248046875, 903.2325439453125, 6993.919921875, 4222.42529296875, 3768.63427734375, 2002.466796875, 944.1393432617188, 910.4627685546875, 778.7327270507812, 832.3768920898438, 686.3276977539062, 544.246826171875, 649.4090576171875, 644.3949584960938, 486.99493408203125, 625.7929077148438, 426.954833984375, 403.1255187988281, 349.41033935546875, 342.8957214355469, 511.4902648925781, 510.3868408203125, 510.3868408203125, 510.3868408203125, 510.3868408203125, 510.3868408203125, 510.3868408203125, 510.3868408203125, 510.3868408203125, 510.3868408203125, 510.3868408203125, 510.3868408203125, 510.3868408203125, 510.3868408203125, 510.3868408203125, 933.6611938476562, 841.2312622070312, 1877.7161865234375, 928.7255859375, 817.666748046875, 575.9779663085938, 610.0595703125, 532.3258666992188, 521.0640258789062, 1402.6964111328125, 886.5386962890625, 816.6041870117188, 773.9740600585938, 640.2245483398438, 408.2842102050781, 400.3271179199219, 377.6403503417969, 267.81646728515625, 256.8619689941406, 238.44091796875, 237.19232177734375, 237.05885314941406, 225.4058380126953, 223.92971801757812, 222.3602752685547, 213.79306030273438, 211.8206329345703, 208.84664916992188, 205.44461059570312, 199.14427185058594, 195.1436004638672, 201.2243194580078, 187.24217224121094, 182.6192626953125, 181.8994598388672, 175.74810791015625, 174.11532592773438, 169.6173858642578, 166.83131408691406, 1299.787109375, 268.6595153808594, 409.605712890625, 410.8448791503906, 329.83599853515625, 627.333984375, 483.9643859863281, 508.06695556640625, 472.5874938964844, 362.89794921875, 497.20379638671875, 387.7174987792969, 390.5091857910156, 251.9846649169922], \"Term\": [\"class\", \"game\", \"ticket\", \"must\", \"free\", \"purchase\", \"dance\", \"play\", \"party\", \"player\", \"pay\", \"team\", \"go\", \"practice\", \"friend\", \"alone\", \"age\", \"drink\", \"enjoy\", \"member\", \"mask\", \"great\", \"attend\", \"people\", \"night\", \"level\", \"masked\", \"dress\", \"street\", \"fun\", \"pre\", \"expect\", \"different\", \"register\", \"guest\", \"sell\", \"bar\", \"reserve\", \"payment\", \"specific\", \"spirit\", \"drink_special\", \"mingle\", \"round\", \"book\", \"limited\", \"win\", \"advanced\", \"expo\", \"certify\", \"likely\", \"suggest\", \"word\", \"staff\", \"lab\", \"remember\", \"multiple\", \"minimum\", \"best\", \"conversational\", \"attend\", \"member\", \"door\", \"pay\", \"group\", \"prepay\", \"great\", \"page\", \"prize\", \"single\", \"host\", \"fun\", \"people\", \"age\", \"several\", \"private\", \"alone\", \"many\", \"purchase\", \"friend\", \"must\", \"advance\", \"ticket\", \"number\", \"go\", \"team\", \"night\", \"make\", \"bring\", \"good\", \"drink\", \"class\", \"practice\", \"october\", \"beginner\", \"support\", \"skill\", \"program\", \"weekly\", \"believe\", \"individual\", \"training\", \"yoga\", \"intermediate\", \"tool\", \"technique\", \"exchange\", \"heart\", \"teach\", \"regular\", \"basic\", \"relationship\", \"student\", \"project\", \"session\", \"write\", \"paypal\", \"future\", \"seek\", \"fast\", \"dog\", \"match\", \"journey\", \"build\", \"develop\", \"course\", \"studio\", \"learn\", \"level\", \"focus\", \"workshop\", \"video\", \"help\", \"business\", \"love\", \"share\", \"use\", \"provide\", \"free\", \"change\", \"start\", \"mask\", \"first\", \"life\", \"question\", \"want\", \"give\", \"bring\", \"also\", \"work\", \"would\", \"masked\", \"experience\", \"need\", \"good\", \"hour\", \"park\", \"tour\", \"stop\", \"halloween\", \"court\", \"coach\", \"league\", \"costume\", \"weather\", \"optional\", \"map\", \"tuesday\", \"season\", \"weekend\", \"shop\", \"history\", \"schedule\", \"photography\", \"cell\", \"brooklyn\", \"outdoor\", \"calm\", \"iconic\", \"dry\", \"central_park\", \"workout\", \"road\", \"donation\", \"locate\", \"hotel\", \"site\", \"side\", \"rain\", \"photo\", \"dinner\", \"train\", \"area\", \"send\", \"walk\", \"cancel\", \"station\", \"check\", \"water\", \"take\", \"street\", \"run\", \"spot\", \"line\", \"include\", \"enjoy\", \"back\", \"mask\", \"see\", \"first\", \"cost\", \"city\", \"go\", \"hour\", \"art\", \"bring\", \"click\", \"good\", \"food\", \"energy\", \"meditation\", \"healing\", \"resource\", \"spiritual\", \"blockchain\", \"transform\", \"heal\", \"artist\", \"discussion\", \"stress\", \"science\", \"medicine\", \"purpose\", \"method\", \"healer\", \"human\", \"collaboration\", \"water_fountain\", \"fear\", \"power\", \"investor\", \"market\", \"god\", \"film\", \"circle\", \"real_estate\", \"suffer\", \"gift\", \"thousand\", \"weekly_ascension\", \"act\", \"process\", \"founder\", \"mind\", \"state\", \"body\", \"release\", \"life\", \"year\", \"community\", \"art\", \"create\", \"world\", \"light\", \"experience\", \"work\", \"base\", \"personal\", \"include\", \"make\", \"live\", \"receive\", \"tango\", \"tailgate\", \"lady\", \"rooftop\", \"soho\", \"monarch_rooftop\", \"absolutely\", \"mention\", \"stadium\", \"slate_ny\", \"baby\", \"vote\", \"dancing\", \"dave\", \"text_whatsapp\", \"slate\", \"mao_list\", \"avoid_lin\", \"football\", \"future_partie\", \"mao_table\", \"salsa\", \"tournament\", \"inclusive_tailgate\", \"subscribe\", \"whatsapp\", \"backpack\", \"non_refundable\", \"classic\", \"monarch\", \"impress\", \"dance\", \"instagram\", \"lounge\", \"watch\", \"introduce\", \"party\", \"floor\", \"free\", \"beer\", \"man\", \"casual\", \"admission\", \"fan\", \"city\", \"mask\", \"dress\", \"drink\", \"partner\", \"saturday\", \"friend\", \"seat\", \"text\", \"food\", \"night\", \"event\", \"also\", \"everyone\", \"mix_mingle\", \"stylish\", \"raffle\", \"boat\", \"marina\", \"yacht\", \"enclose\", \"mostly\", \"cruise\", \"ethnic_specific\", \"already_prepaid\", \"tired\", \"mature\", \"super_friendly\", \"sight\", \"liberty_brooklyn\", \"busy_professional\", \"done_danielle\", \"prizes_giveaway\", \"assortment\", \"suggest_neat\", \"dj_play\", \"panoramic_view\", \"icebreaker\", \"fully_stock\", \"top_hit\", \"main_level\", \"walk_block\", \"paid_park\", \"rsvping_without\", \"second_level\", \"parking\", \"shine\", \"ticket\", \"casual\", \"enjoy\", \"gets_closer\", \"street\", \"purchase\", \"grab\", \"arrive\", \"multi\", \"available\", \"dance\", \"front\", \"night\", \"take\", \"alone\", \"drink\", \"level\", \"age\", \"start\", \"go\", \"code\", \"advance\", \"game\", \"play\", \"player\", \"movement\", \"tennis\", \"drill\", \"racquet\", \"helpful_hint\", \"squeegee\", \"membership\", \"cancellation_due\", \"red_button\", \"ball\", \"ensure_quality\", \"supportive\", \"soccer\", \"charity\", \"attitude\", \"star_review\", \"size_maximum\", \"cancellations_text\", \"participants_shown\", \"notified_asap\", \"says_login\", \"another_emergency\", \"secure_scheduling\", \"tennis_lesson\", \"max_player\", \"updates_postponement\", \"watch_tenni\", \"perfect_blend\", \"canopy_shelter\", \"intermittent_shower\", \"lose\", \"field\", \"must\", \"team\", \"go\", \"chance\", \"show\", \"refund\", \"sign\", \"hike\", \"hiking\", \"columbia_university\", \"trail\", \"translation\", \"bottle\", \"queen\", \"tent\", \"moderate\", \"overlook\", \"song\", \"contest\", \"mill\", \"broadway\", \"elevation\", \"winery\", \"processing_fee\", \"bear_mountain\", \"sky\", \"moon\", \"hayride\", \"row\", \"robot\", \"thus\", \"pound\", \"butter\", \"jeff\", \"hoboken\", \"lee\", \"trace\", \"trip\", \"bag\", \"bear\", \"transportation\", \"hudson_river\", \"lunch\", \"mile\", \"drive\", \"beer\", \"head\", \"masked\", \"link\", \"include\", \"snack\"], \"Total\": [20614.0, 6995.0, 14195.0, 10962.0, 14685.0, 9922.0, 7084.0, 4223.0, 6836.0, 3769.0, 12176.0, 5878.0, 11887.0, 8417.0, 9680.0, 7606.0, 8495.0, 7997.0, 6131.0, 9828.0, 9435.0, 11064.0, 9075.0, 17274.0, 7775.0, 7302.0, 5746.0, 5239.0, 5242.0, 11752.0, 6512.9375, 5543.603515625, 4809.17724609375, 4290.80908203125, 4170.54248046875, 4129.130859375, 3745.440673828125, 3553.546142578125, 3216.45263671875, 3191.41552734375, 2909.163330078125, 2789.090087890625, 2408.470703125, 2322.733642578125, 2297.259765625, 2265.40966796875, 2119.09033203125, 2021.2607421875, 2020.89697265625, 1861.492919921875, 1735.9481201171875, 1567.5994873046875, 1543.99951171875, 1538.1318359375, 1504.8231201171875, 1462.104248046875, 1402.532958984375, 1365.8800048828125, 1351.062255859375, 1356.535400390625, 9075.2783203125, 9828.166015625, 5449.99951171875, 12176.1005859375, 7111.4384765625, 4501.02734375, 11064.130859375, 2202.041259765625, 2727.410888671875, 3272.662841796875, 7093.037109375, 11752.548828125, 17274.064453125, 8495.27734375, 3630.719482421875, 5664.13232421875, 7606.9267578125, 7898.01416015625, 9922.490234375, 9680.8173828125, 10962.74609375, 5881.89404296875, 14195.1806640625, 6318.05908203125, 11887.8212890625, 5878.3046875, 7775.8046875, 11012.08984375, 12605.63671875, 9330.990234375, 7997.77783203125, 20614.873046875, 8417.783203125, 4410.6513671875, 2317.39111328125, 2091.2470703125, 2026.3988037109375, 1898.1727294921875, 1798.4935302734375, 1695.95654296875, 1678.115234375, 1659.501953125, 1617.193603515625, 1570.751220703125, 1515.927490234375, 1447.65087890625, 1441.619140625, 1398.5772705078125, 1330.26611328125, 1244.8382568359375, 1172.3958740234375, 1158.0194091796875, 3910.062255859375, 1106.2427978515625, 1092.79296875, 1091.636474609375, 1050.5303955078125, 1021.15673828125, 1009.7743530273438, 1000.9529418945312, 995.5176391601562, 997.0225219726562, 1662.2227783203125, 1702.3726806640625, 1590.98681640625, 1668.4573974609375, 1630.266357421875, 8769.0107421875, 7302.25732421875, 2684.08984375, 3739.3232421875, 2645.858642578125, 4699.10009765625, 4791.37158203125, 3015.04345703125, 2332.554443359375, 5159.18212890625, 3720.762451171875, 14685.6826171875, 2891.374755859375, 5181.56982421875, 9435.2314453125, 5871.73779296875, 6277.6328125, 6592.24560546875, 6535.12646484375, 4237.03369140625, 12605.63671875, 9223.2451171875, 8723.4345703125, 5327.26708984375, 5746.66748046875, 9243.033203125, 5945.443359375, 9330.990234375, 5555.22509765625, 3398.537841796875, 2399.483154296875, 2185.639404296875, 2107.537841796875, 1660.9820556640625, 1574.0042724609375, 1361.364013671875, 1334.107666015625, 1322.324951171875, 1107.1649169921875, 1009.6136474609375, 989.0806274414062, 1018.2213134765625, 967.793212890625, 966.8754272460938, 951.3238525390625, 919.672119140625, 882.5113525390625, 860.8911743164062, 841.708251953125, 801.4325561523438, 805.6661376953125, 782.5953979492188, 798.9202880859375, 725.0481567382812, 715.2818603515625, 678.02197265625, 673.0191650390625, 627.5670776367188, 624.4683837890625, 2639.967041015625, 1020.8435668945312, 4180.7900390625, 1573.98779296875, 2036.9326171875, 2351.85986328125, 1912.634765625, 2360.05615234375, 2371.32763671875, 1875.5963134765625, 1509.196533203125, 2622.481201171875, 1907.259765625, 6620.93603515625, 5242.65283203125, 2369.681396484375, 2635.480712890625, 2093.7919921875, 7054.8017578125, 6131.3720703125, 2309.677978515625, 9435.2314453125, 8061.64892578125, 5871.73779296875, 4731.08984375, 6729.9189453125, 11887.8212890625, 5555.22509765625, 3543.305908203125, 12605.63671875, 4385.6806640625, 9330.990234375, 6129.68212890625, 3330.81298828125, 2852.617431640625, 2151.725830078125, 1597.7979736328125, 1520.5546875, 1351.482177734375, 1272.0968017578125, 1139.30126953125, 1009.4102172851562, 973.3614501953125, 888.0969848632812, 862.1434326171875, 801.82958984375, 771.5339965820312, 769.7386474609375, 746.3161010742188, 736.7252807617188, 725.1063232421875, 762.9588012695312, 709.4776000976562, 700.7371215820312, 679.1070556640625, 667.05419921875, 664.3374633789062, 648.9645385742188, 639.4171142578125, 636.1842651367188, 628.5252685546875, 594.203857421875, 587.7267456054688, 761.3734741210938, 888.1968383789062, 994.6222534179688, 1181.9080810546875, 1976.1004638671875, 2275.093017578125, 3778.56396484375, 721.4586791992188, 6277.6328125, 6536.1474609375, 2351.735107421875, 3543.305908203125, 3828.3212890625, 4607.56884765625, 1744.228759765625, 9243.033203125, 8723.4345703125, 4143.20361328125, 1090.496337890625, 7054.8017578125, 11012.08984375, 2411.954345703125, 1747.9998779296875, 2020.734375, 1221.057373046875, 1051.5675048828125, 983.2852783203125, 911.1743774414062, 883.7667846679688, 803.9899291992188, 793.0010375976562, 645.4138793945312, 589.8310546875, 580.3836669921875, 566.6218872070312, 548.8226928710938, 449.933349609375, 443.6322937011719, 442.64422607421875, 432.6215515136719, 431.8627624511719, 427.7408142089844, 427.1653137207031, 427.1653137207031, 385.5271911621094, 379.52734375, 353.4468078613281, 349.3296813964844, 336.9519348144531, 330.9355163574219, 309.3741149902344, 305.7795715332031, 296.9615783691406, 381.5413818359375, 7084.759765625, 768.6511840820312, 1262.7076416015625, 1442.494873046875, 1792.2254638671875, 6836.55224609375, 2620.089111328125, 14685.6826171875, 1269.662841796875, 1512.025634765625, 2767.651611328125, 2942.019775390625, 3464.233642578125, 6729.9189453125, 9435.2314453125, 5239.658203125, 7997.77783203125, 2706.881103515625, 2256.26611328125, 9680.8173828125, 1720.033935546875, 1819.485107421875, 6129.68212890625, 7775.8046875, 5345.74072265625, 9223.2451171875, 5541.1748046875, 1804.2467041015625, 1472.3583984375, 1430.620361328125, 1223.5670166015625, 1109.175048828125, 1074.302490234375, 1019.4042358398438, 1006.51416015625, 832.1204833984375, 822.6783447265625, 804.7071533203125, 749.910888671875, 747.4319458007812, 641.0656127929688, 618.0518798828125, 594.544189453125, 579.3197021484375, 579.3197021484375, 564.0906982421875, 559.573486328125, 554.2715454101562, 539.207275390625, 529.5545654296875, 527.13525390625, 526.1076049804688, 524.0769653320312, 523.0386962890625, 522.840087890625, 521.4623413085938, 521.4912719726562, 521.4624633789062, 3432.95556640625, 1277.859375, 14195.1806640625, 2767.651611328125, 6131.3720703125, 2547.1142578125, 5242.65283203125, 9922.490234375, 991.1992797851562, 4469.90283203125, 3218.043701171875, 6308.7822265625, 7084.759765625, 1030.9530029296875, 7775.8046875, 6620.93603515625, 7606.9267578125, 7997.77783203125, 7302.25732421875, 8495.27734375, 5181.56982421875, 11887.8212890625, 5821.79052734375, 5881.89404296875, 6995.2607421875, 4223.76611328125, 3769.974365234375, 2003.811767578125, 945.4804077148438, 911.803466796875, 780.0823974609375, 833.8414306640625, 687.960693359375, 545.5878295898438, 651.1647338867188, 646.167236328125, 488.3349914550781, 627.6268310546875, 428.2975769042969, 404.4654235839844, 350.7517395019531, 344.24267578125, 513.7034912109375, 512.6038818359375, 512.6038818359375, 512.6038818359375, 512.6038818359375, 512.6038818359375, 512.6038818359375, 512.6038818359375, 512.6038818359375, 512.6038818359375, 512.6038818359375, 512.6038818359375, 512.6038818359375, 512.6038818359375, 512.6038818359375, 1251.717041015625, 1215.4793701171875, 10962.74609375, 5878.3046875, 11887.8212890625, 1845.36865234375, 5194.74853515625, 1886.4664306640625, 4137.51220703125, 1404.068359375, 887.91455078125, 817.98681640625, 775.345947265625, 641.6187133789062, 409.6581115722656, 401.7005615234375, 379.0137634277344, 269.1890563964844, 258.2364807128906, 239.8139190673828, 238.56756591796875, 238.4407196044922, 226.77976989746094, 225.3083038330078, 223.732421875, 215.1717529296875, 213.19622802734375, 210.2186279296875, 206.81991577148438, 200.5213165283203, 196.54588317871094, 202.67739868164062, 188.6207275390625, 183.99169921875, 183.32984924316406, 177.1309051513672, 175.49014282226562, 170.9922637939453, 168.2054443359375, 1434.2401123046875, 285.11529541015625, 500.42681884765625, 674.7135009765625, 478.69415283203125, 1429.4681396484375, 976.945068359375, 1070.376708984375, 1269.662841796875, 1347.56982421875, 5746.66748046875, 4680.0615234375, 7054.8017578125, 738.3579711914062], \"loglift\": [30.0, 29.0, 28.0, 27.0, 26.0, 25.0, 24.0, 23.0, 22.0, 21.0, 20.0, 19.0, 18.0, 17.0, 16.0, 15.0, 14.0, 13.0, 12.0, 11.0, 10.0, 9.0, 8.0, 7.0, 6.0, 5.0, 4.0, 3.0, 2.0, 1.0, 1.1513999700546265, 1.1513999700546265, 1.1512999534606934, 1.1512999534606934, 1.1512999534606934, 1.1512999534606934, 1.1512999534606934, 1.1512000560760498, 1.1512000560760498, 1.1512000560760498, 1.1512000560760498, 1.1511000394821167, 1.1511000394821167, 1.1510000228881836, 1.1510000228881836, 1.1510000228881836, 1.1510000228881836, 1.1510000228881836, 1.1510000228881836, 1.1509000062942505, 1.1509000062942505, 1.1507999897003174, 1.1507999897003174, 1.1507999897003174, 1.1506999731063843, 1.1506999731063843, 1.1506999731063843, 1.1506999731063843, 1.1505999565124512, 1.1505999565124512, 1.1491999626159668, 1.1440999507904053, 1.1495000123977661, 1.1411000490188599, 1.1448999643325806, 1.1491999626159668, 1.1186000108718872, 1.145400047302246, 1.1396000385284424, 1.1294000148773193, 1.0959999561309814, 1.0252000093460083, 0.972599983215332, 1.0302000045776367, 1.101699948310852, 1.0291999578475952, 0.9552000164985657, 0.9433000087738037, 0.8837000131607056, 0.8756999969482422, 0.8374000191688538, 0.9495000243186951, 0.6780999898910522, 0.8962000012397766, 0.6014000177383423, 0.8780999779701233, 0.7328000068664551, 0.48590001463890076, 0.3398999869823456, 0.5063999891281128, 0.5692999958992004, 1.3841999769210815, 1.3840999603271484, 1.3839000463485718, 1.3835999965667725, 1.3835999965667725, 1.3834999799728394, 1.3834999799728394, 1.3833999633789062, 1.3833999633789062, 1.3833999633789062, 1.3833999633789062, 1.3833999633789062, 1.3832999467849731, 1.3832999467849731, 1.3832999467849731, 1.3832000494003296, 1.3832000494003296, 1.3832000494003296, 1.3831000328063965, 1.3830000162124634, 1.3830000162124634, 1.3830000162124634, 1.3830000162124634, 1.3828999996185303, 1.3828999996185303, 1.3828999996185303, 1.3827999830245972, 1.3827999830245972, 1.3827999830245972, 1.3827999830245972, 1.3827999830245972, 1.3763999938964844, 1.3727999925613403, 1.3712999820709229, 1.3688000440597534, 1.3641999959945679, 1.229599952697754, 1.2347999811172485, 1.2941999435424805, 1.2538000345230103, 1.2711000442504883, 1.1672999858856201, 1.1569000482559204, 1.2178000211715698, 1.2695000171661377, 1.068600058555603, 1.1110999584197998, 0.6531000137329102, 1.15339994430542, 0.8497999906539917, 0.5335000157356262, 0.7440000176429749, 0.6570000052452087, 0.6114000082015991, 0.599399983882904, 0.8445000052452087, 0.19760000705718994, 0.35280001163482666, 0.3353999853134155, 0.666700005531311, 0.5871000289916992, 0.21250000596046448, 0.5583000183105469, 0.12020000070333481, 0.5806999802589417, 1.8747999668121338, 1.8746000528335571, 1.8746000528335571, 1.8746000528335571, 1.874400019645691, 1.8743000030517578, 1.8741999864578247, 1.8741999864578247, 1.8741999864578247, 1.8739999532699585, 1.8738000392913818, 1.8738000392913818, 1.8738000392913818, 1.8738000392913818, 1.8738000392913818, 1.8738000392913818, 1.8737000226974487, 1.8737000226974487, 1.8736000061035156, 1.8736000061035156, 1.8734999895095825, 1.8734999895095825, 1.8734999895095825, 1.8734999895095825, 1.8732999563217163, 1.8732999563217163, 1.8732000589370728, 1.8732000589370728, 1.8730000257492065, 1.8730000257492065, 1.8496999740600586, 1.8628000020980835, 1.7950999736785889, 1.813099980354309, 1.7702000141143799, 1.7384999990463257, 1.7309999465942383, 1.6828999519348145, 1.6770999431610107, 1.7131999731063843, 1.69760000705719, 1.5236999988555908, 1.6232999563217163, 1.197700023651123, 1.2645000219345093, 1.5354000329971313, 1.455299973487854, 1.5404000282287598, 0.9689000248908997, 0.9462000131607056, 1.4459999799728394, 0.680899977684021, 0.7088000178337097, 0.8752999901771545, 1.007099986076355, 0.7583000063896179, 0.3531999886035919, 0.8429999947547913, 1.170300006866455, 0.18129999935626984, 0.9866999983787537, 0.22920000553131104, 0.6133000254631042, 2.0708000659942627, 2.07069993019104, 2.0706000328063965, 2.0703001022338867, 2.0703001022338867, 2.070199966430664, 2.0701000690460205, 2.069999933242798, 2.0697999000549316, 2.0697999000549316, 2.0696001052856445, 2.0696001052856445, 2.0694000720977783, 2.0694000720977783, 2.0694000720977783, 2.0692999362945557, 2.0692999362945557, 2.0692999362945557, 2.0692999362945557, 2.069200038909912, 2.069200038909912, 2.0690999031066895, 2.0690999031066895, 2.0690999031066895, 2.069000005722046, 2.069000005722046, 2.069000005722046, 2.069000005722046, 2.0687999725341797, 2.0687999725341797, 2.0678999423980713, 2.0548999309539795, 2.026400089263916, 1.9903000593185425, 1.88919997215271, 1.8233000040054321, 1.6131999492645264, 2.047499895095825, 1.4106999635696411, 1.2187999486923218, 1.5860999822616577, 1.3890000581741333, 1.3278000354766846, 1.1432000398635864, 1.5983999967575073, 0.6592000126838684, 0.5257999897003174, 0.9463000297546387, 1.8327000141143799, 0.4966000020503998, 0.09860000014305115, 1.2374000549316406, 1.4615999460220337, 2.872499942779541, 2.8721001148223877, 2.8719000816345215, 2.871799945831299, 2.8717000484466553, 2.8717000484466553, 2.871500015258789, 2.871500015258789, 2.8710999488830566, 2.8708999156951904, 2.8708999156951904, 2.870800018310547, 2.870800018310547, 2.8701999187469482, 2.8701999187469482, 2.8701999187469482, 2.8701000213623047, 2.8701000213623047, 2.8701000213623047, 2.8701000213623047, 2.8701000213623047, 2.869800090789795, 2.8696999549865723, 2.8694000244140625, 2.8694000244140625, 2.86929988861084, 2.8691000938415527, 2.8689000606536865, 2.868799924850464, 2.8687000274658203, 2.8612000942230225, 2.600100040435791, 2.7699999809265137, 2.6930999755859375, 2.607300043106079, 2.53410005569458, 2.1814000606536865, 2.219899892807007, 1.6075999736785889, 2.406100034713745, 2.3329999446868896, 2.061800003051758, 2.012500047683716, 1.9320000410079956, 1.5405000448226929, 1.347599983215332, 1.635200023651123, 1.3974000215530396, 1.9013999700546265, 1.9643000364303589, 0.9987999796867371, 2.1147000789642334, 2.047600030899048, 1.0667999982833862, 0.7831000089645386, 1.0520999431610107, 0.5120999813079834, 0.9514999985694885, 2.9502999782562256, 2.950200080871582, 2.9500999450683594, 2.950000047683716, 2.949899911880493, 2.949899911880493, 2.9498000144958496, 2.9498000144958496, 2.9495999813079834, 2.9495999813079834, 2.94950008392334, 2.949399948120117, 2.949399948120117, 2.949199914932251, 2.9491000175476074, 2.9489998817443848, 2.9489998817443848, 2.9489998817443848, 2.948899984359741, 2.948899984359741, 2.948899984359741, 2.9488000869750977, 2.9488000869750977, 2.9488000869750977, 2.9488000869750977, 2.9488000869750977, 2.9488000869750977, 2.9488000869750977, 2.9488000869750977, 2.9488000869750977, 2.9488000869750977, 2.7500998973846436, 2.7850000858306885, 1.861899971961975, 2.3629000186920166, 1.9970999956130981, 2.2852001190185547, 1.955199956893921, 1.5024000406265259, 2.641400098800659, 1.8531999588012695, 1.9911999702453613, 1.6162999868392944, 1.5190000534057617, 2.5969998836517334, 1.2604999542236328, 1.3242000341415405, 1.2259000539779663, 1.0813000202178955, 0.9429000020027161, 0.7814000248908997, 1.2217999696731567, 0.43230000138282776, 1.0992000102996826, 1.077299952507019, 3.6552000045776367, 3.655100107192993, 3.655100107192993, 3.6547999382019043, 3.6540000438690186, 3.6540000438690186, 3.653700113296509, 3.653700113296509, 3.65310001373291, 3.6530001163482666, 3.6526999473571777, 3.6526999473571777, 3.6526999473571777, 3.6524999141693115, 3.6522998809814453, 3.652100086212158, 3.651599884033203, 3.6514999866485596, 3.651099920272827, 3.651099920272827, 3.651099920272827, 3.651099920272827, 3.651099920272827, 3.651099920272827, 3.651099920272827, 3.651099920272827, 3.651099920272827, 3.651099920272827, 3.651099920272827, 3.651099920272827, 3.651099920272827, 3.651099920272827, 3.651099920272827, 3.362299919128418, 3.287400007247925, 1.8910000324249268, 1.8101999759674072, 0.978600025177002, 2.4911000728607178, 1.5135999917984009, 2.390199899673462, 1.5835000276565552, 3.944999933242798, 3.9444000720977783, 3.944200038909912, 3.944200038909912, 3.9437999725341797, 3.9426000118255615, 3.942500114440918, 3.9423000812530518, 3.9407999515533447, 3.9405999183654785, 3.940200090408325, 3.940200090408325, 3.9400999546051025, 3.9398999214172363, 3.9398000240325928, 3.9398000240325928, 3.939500093460083, 3.939500093460083, 3.9393999576568604, 3.939300060272217, 3.938999891281128, 3.938800096511841, 3.938699960708618, 3.9386000633239746, 3.9384000301361084, 3.9381000995635986, 3.9381000995635986, 3.9381000995635986, 3.9379000663757324, 3.937700033187866, 3.8475000858306885, 3.8864998817443848, 3.745699882507324, 3.449899911880493, 3.573499917984009, 3.1224000453948975, 3.243499994277954, 3.2007999420166016, 2.9576001167297363, 2.634000062942505, 1.4986000061035156, 1.4551000595092773, 1.051900029182434, 2.8708999156951904], \"logprob\": [30.0, 29.0, 28.0, 27.0, 26.0, 25.0, 24.0, 23.0, 22.0, 21.0, 20.0, 19.0, 18.0, 17.0, 16.0, 15.0, 14.0, 13.0, 12.0, 11.0, 10.0, 9.0, 8.0, 7.0, 6.0, 5.0, 4.0, 3.0, 2.0, 1.0, -4.696100234985352, -4.8572001457214355, -4.9994001388549805, -5.113500118255615, -5.141900062561035, -5.151899814605713, -5.249499797821045, -5.30210018157959, -5.401800155639648, -5.409599781036377, -5.502200126647949, -5.544400215148926, -5.691199779510498, -5.727499961853027, -5.738500118255615, -5.752500057220459, -5.819300174713135, -5.866600036621094, -5.866799831390381, -5.948999881744385, -6.018799781799316, -6.1209001541137695, -6.136099815368652, -6.139900207519531, -6.161900043487549, -6.190700054168701, -6.2322998046875, -6.258800029754639, -6.269700050354004, -6.265699863433838, -4.366499900817871, -4.291900157928467, -4.876100063323975, -4.080699920654297, -4.61460018157959, -5.067699909210205, -4.19890022277832, -5.786399841308594, -5.5782999992370605, -5.406300067901611, -4.666100025177002, -4.23199987411499, -3.8994998931884766, -4.551599979400635, -5.330100059509277, -4.957900047302246, -4.736999988555908, -4.711299896240234, -4.542699813842773, -4.575500011444092, -4.489299774169922, -4.999899864196777, -4.3902997970581055, -4.9816999435424805, -4.644400119781494, -5.071800231933594, -4.937399864196777, -4.836400032043457, -4.8471999168396, -4.981500148773193, -5.072800159454346, -3.3111000061035156, -4.2067999839782715, -4.853300094604492, -5.497200012207031, -5.599899768829346, -5.631499767303467, -5.696899890899658, -5.750899791717529, -5.809599876403809, -5.820199966430664, -5.831399917602539, -5.8572001457214355, -5.88640022277832, -5.921899795532227, -5.968100070953369, -5.9721999168396, -6.002600193023682, -6.052700042724609, -6.119200229644775, -6.179200172424316, -6.191500186920166, -4.974699974060059, -6.237299919128418, -6.249599933624268, -6.2505998611450195, -6.289100170135498, -6.317500114440918, -6.328700065612793, -6.337500095367432, -6.342899799346924, -6.341400146484375, -5.836699962615967, -5.816400051116943, -5.8856000900268555, -5.8404998779296875, -5.868299961090088, -4.320400238037109, -4.498300075531006, -5.439700126647949, -5.148600101470947, -5.477200031280518, -5.0065999031066895, -4.997499942779541, -5.399899959564209, -5.604800224304199, -5.011899948120117, -5.296199798583984, -4.38129997253418, -5.506100177764893, -5.226399898529053, -4.943299770355225, -5.207099914550781, -5.22730016708374, -5.223999977111816, -5.244699954986572, -5.4328999519348145, -4.989500045776367, -5.146699905395508, -5.219799995422363, -5.381800174713135, -5.385499954223633, -5.284900188446045, -5.380300045013428, -5.367700099945068, -5.42579984664917, -4.6230998039245605, -4.971399784088135, -5.064799785614014, -5.101200103759766, -5.3394999504089355, -5.3933000564575195, -5.538599967956543, -5.558800220489502, -5.567699909210205, -5.745500087738037, -5.837800025939941, -5.858399868011475, -5.829400062561035, -5.880199909210205, -5.881199836730957, -5.89739990234375, -5.931300163269043, -5.972599983215332, -5.997399806976318, -6.019999980926514, -6.0690999031066895, -6.063899993896484, -6.092899799346924, -6.072299957275391, -6.169400215148926, -6.183000087738037, -6.236599922180176, -6.244100093841553, -6.3140997886657715, -6.3190999031066895, -4.9008002281188965, -5.837800025939941, -4.495699882507324, -5.454500198364258, -5.23960018157959, -5.127500057220459, -5.341700077056885, -5.179699897766113, -5.180699825286865, -5.3790998458862305, -5.612100124359131, -5.233399868011475, -5.452300071716309, -4.633299827575684, -4.799900054931641, -5.3231000900268555, -5.296899795532227, -5.44189977645874, -4.798699855804443, -4.961699962615967, -5.438199996948242, -4.795899868011475, -4.925300121307373, -5.075799942016602, -5.159999847412109, -5.056399822235107, -4.892499923706055, -5.16349983215332, -5.285900115966797, -5.005799770355225, -5.256199836730957, -5.258699893951416, -5.2947998046875, -4.447199821472168, -4.60230016708374, -4.884399890899658, -5.182300090789795, -5.231900215148926, -5.349899768829346, -5.4105000495910645, -5.520899772644043, -5.642099857330322, -5.678500175476074, -5.770299911499023, -5.800000190734863, -5.872700214385986, -5.911200046539307, -5.913599967956543, -5.944499969482422, -5.957499980926514, -5.973400115966797, -5.922599792480469, -5.995299816131592, -6.007699966430664, -6.039100170135498, -6.057000160217285, -6.061100006103516, -6.08459997177124, -6.0995001792907715, -6.104499816894531, -6.116700172424316, -6.172999858856201, -6.183899879455566, -5.926000118255615, -5.784900188446045, -5.700300216674805, -5.563799858093262, -5.150899887084961, -5.076000213623047, -4.77869987487793, -6.000199794769287, -4.473599910736084, -4.625100135803223, -5.28000020980835, -5.067200183868408, -5.05109977722168, -5.050300121307373, -5.5665998458862305, -4.838200092315674, -5.029399871826172, -5.353499889373779, -5.8018999099731445, -5.270999908447266, -5.223700046539307, -5.603400230407715, -5.701200008392334, -4.145299911499023, -4.649499893188477, -4.799099922180176, -4.866300106048584, -4.942599773406982, -4.973100185394287, -5.06790018081665, -5.081699848175049, -5.288000106811523, -5.378200054168701, -5.394400119781494, -5.418499946594238, -5.450500011444092, -5.649700164794922, -5.66379976272583, -5.665999889373779, -5.689000129699707, -5.690800189971924, -5.700399875640869, -5.7017998695373535, -5.7017998695373535, -5.804599761962891, -5.820400238037109, -5.8917999267578125, -5.903600215911865, -5.939799785614014, -5.957900047302246, -6.0254998207092285, -6.037300109863281, -6.066699981689453, -5.823599815368652, -3.1631999015808105, -5.214399814605713, -4.794899940490723, -4.747600078582764, -4.603700160980225, -3.6175999641418457, -4.538099765777588, -3.426800012588501, -5.076399803161621, -4.974800109863281, -4.641499996185303, -4.6296000480651855, -4.546800136566162, -4.274199962615967, -4.129199981689453, -4.429800033569336, -4.24459981918335, -4.823999881744385, -4.94320011138916, -4.452300071716309, -5.064199924468994, -5.075099945068359, -4.841300010681152, -4.8871002197265625, -4.992800235748291, -4.987400054931641, -5.057499885559082, -4.180799961090088, -4.384200096130371, -4.413000106811523, -4.569499969482422, -4.667699813842773, -4.699699878692627, -4.752200126647949, -4.764999866485596, -4.95550012588501, -4.966899871826172, -4.988999843597412, -5.059599876403809, -5.063000202178955, -5.216700077056885, -5.253300189971924, -5.292200088500977, -5.31820011138916, -5.31820011138916, -5.344900131225586, -5.35290002822876, -5.362500190734863, -5.390100002288818, -5.408199787139893, -5.412799835205078, -5.414700031280518, -5.418600082397461, -5.420599937438965, -5.421000003814697, -5.423600196838379, -5.423600196838379, -5.423600196838379, -3.7376999855041504, -4.691100120544434, -3.206399917602539, -4.340400218963623, -3.910799980163574, -4.501100063323975, -4.1092000007629395, -3.9240000247955322, -5.088699817657471, -4.370699882507324, -4.561299800872803, -4.263000011444092, -4.24429988861084, -5.093800067901611, -4.4096999168396, -4.506899833679199, -4.466300010681152, -4.560800075531006, -4.790200233459473, -4.800300121307373, -4.854300022125244, -4.813399791717529, -4.860400199890137, -4.872099876403809, -2.120800018310547, -2.6254000663757324, -2.7390999794006348, -3.3714001178741455, -4.123300075531006, -4.159599781036377, -4.315899848937988, -4.249300003051758, -4.442200183868408, -4.674200057983398, -4.497499942779541, -4.505300045013428, -4.785299777984619, -4.5345001220703125, -4.916900157928467, -4.974299907684326, -5.117300033569336, -5.136099815368652, -4.736199855804443, -4.738399982452393, -4.738399982452393, -4.738399982452393, -4.738399982452393, -4.738399982452393, -4.738399982452393, -4.738399982452393, -4.738399982452393, -4.738399982452393, -4.738399982452393, -4.738399982452393, -4.738399982452393, -4.738399982452393, -4.738399982452393, -4.134500026702881, -4.238699913024902, -3.435800075531006, -4.139800071716309, -4.267099857330322, -4.617499828338623, -4.559999942779541, -4.696300029754639, -4.717700004577637, -3.4368999004364014, -3.895699977874756, -3.9779000282287598, -4.031499862670898, -4.22130012512207, -4.67110013961792, -4.690800189971924, -4.749100208282471, -5.092800140380859, -5.134500026702881, -5.209000110626221, -5.214200019836426, -5.214799880981445, -5.265200138092041, -5.271699905395508, -5.278800010681152, -5.3180999755859375, -5.327300071716309, -5.3414998054504395, -5.357900142669678, -5.388999938964844, -5.409299850463867, -5.378699779510498, -5.450699806213379, -5.4756999015808105, -5.479599952697754, -5.513999938964844, -5.523399829864502, -5.549499988555908, -5.566100120544434, -3.5130999088287354, -5.089600086212158, -4.667900085449219, -4.664899826049805, -4.884500026702881, -4.241600036621094, -4.501100063323975, -4.452499866485596, -4.524899959564209, -4.789000034332275, -4.474100112915039, -4.722799777984619, -4.71560001373291, -5.15369987487793]}, \"token.table\": {\"Topic\": [5, 1, 4, 1, 5, 1, 6, 7, 1, 1, 6, 1, 6, 6, 1, 2, 3, 4, 5, 7, 3, 7, 1, 2, 3, 1, 2, 3, 4, 6, 3, 4, 4, 6, 1, 8, 7, 1, 2, 3, 6, 5, 5, 1, 2, 3, 8, 5, 3, 8, 7, 1, 1, 2, 4, 2, 4, 8, 8, 5, 8, 2, 2, 1, 4, 6, 2, 4, 1, 8, 1, 2, 3, 4, 7, 8, 3, 2, 4, 5, 1, 2, 5, 6, 8, 3, 1, 3, 7, 3, 7, 3, 7, 5, 6, 3, 3, 1, 1, 2, 4, 7, 2, 3, 4, 7, 2, 3, 4, 4, 1, 2, 3, 5, 6, 2, 5, 1, 2, 3, 3, 1, 2, 5, 6, 4, 8, 2, 4, 8, 1, 1, 2, 3, 3, 1, 2, 4, 3, 1, 2, 4, 6, 5, 6, 5, 5, 2, 4, 1, 1, 3, 4, 6, 2, 3, 6, 1, 4, 1, 5, 7, 1, 3, 4, 5, 6, 1, 2, 3, 8, 3, 8, 6, 4, 1, 3, 4, 6, 7, 6, 1, 2, 4, 5, 8, 1, 2, 5, 2, 1, 1, 2, 3, 4, 5, 6, 1, 1, 5, 2, 4, 2, 3, 4, 7, 4, 1, 2, 3, 4, 2, 5, 6, 1, 2, 1, 3, 4, 5, 6, 5, 1, 4, 1, 2, 3, 4, 5, 1, 4, 5, 6, 3, 6, 6, 1, 3, 5, 2, 5, 7, 1, 6, 4, 1, 2, 3, 4, 1, 2, 3, 4, 5, 6, 7, 4, 1, 2, 3, 2, 6, 1, 3, 4, 1, 8, 1, 3, 8, 3, 5, 8, 4, 4, 4, 2, 1, 2, 5, 7, 8, 8, 3, 8, 1, 3, 4, 3, 1, 2, 3, 4, 5, 6, 3, 8, 4, 6, 3, 4, 5, 1, 2, 3, 4, 5, 8, 5, 2, 4, 5, 2, 3, 7, 2, 5, 4, 8, 1, 2, 1, 5, 3, 1, 2, 4, 8, 2, 6, 8, 6, 2, 4, 3, 4, 5, 1, 1, 3, 6, 1, 2, 3, 4, 8, 1, 4, 5, 3, 3, 7, 1, 5, 1, 2, 3, 8, 6, 1, 2, 3, 4, 5, 1, 4, 5, 1, 2, 3, 4, 5, 5, 3, 6, 4, 1, 2, 3, 4, 5, 1, 2, 3, 5, 8, 2, 6, 3, 7, 4, 4, 1, 5, 7, 5, 4, 3, 8, 8, 2, 4, 1, 1, 6, 8, 5, 5, 8, 6, 7, 1, 4, 6, 1, 1, 3, 5, 6, 7, 8, 1, 2, 3, 5, 7, 1, 3, 5, 6, 5, 3, 7, 1, 2, 3, 8, 2, 3, 3, 8, 1, 4, 6, 6, 3, 5, 6, 3, 7, 2, 5, 1, 5, 1, 3, 1, 2, 1, 2, 3, 4, 5, 3, 7, 1, 4, 2, 3, 4, 3, 7, 7, 8, 4, 2, 1, 1, 6, 1, 6, 1, 6, 6, 2, 4, 8, 2, 2, 1, 2, 3, 4, 1, 6, 4, 8, 1, 2, 5, 7, 6, 3, 5, 4, 1, 2, 4, 7, 1, 3, 7, 1, 2, 2, 2, 4, 5, 1, 1, 4, 3, 8, 5, 1, 8, 6, 2, 3, 5, 3, 5, 3, 7, 3, 4, 3, 1, 2, 3, 5, 6, 3, 7, 1, 2, 3, 5, 7, 2, 1, 1, 3, 2, 1, 3, 2, 3, 5, 3, 6, 3, 1, 2, 3, 4, 5, 7, 3, 5, 6, 1, 2, 3, 7, 8, 1, 2, 6, 2, 3, 3, 7, 2, 8, 5, 5, 2, 3, 4, 8, 7, 5, 8, 1, 1, 4, 1, 2, 3, 7, 5, 1, 3, 7, 1, 2, 3, 5, 6, 7, 8, 3, 4, 1, 3, 8, 3, 3, 5, 6, 4, 2, 4, 2, 4, 6, 5, 4, 1, 6, 6, 2, 7, 5, 1, 2, 3, 4, 5, 6, 5, 2, 1, 2, 7, 2, 7, 3, 7, 8, 2, 3, 5, 5, 4, 8, 1, 3, 4, 5, 6, 6, 2, 6, 3, 5, 8, 8, 3, 5, 8, 2, 4, 8, 3, 8, 3, 8, 3, 3, 7, 1, 2, 3, 7, 1, 2, 5, 3, 4, 6, 1, 2, 3, 8, 2, 5, 3, 7, 3, 4, 4, 3, 3, 2, 2, 4, 5, 1, 8, 1, 1, 2, 4, 3, 2, 4, 1, 2, 3, 4, 1, 2, 3, 4, 5, 2, 6, 1, 2, 3, 4, 5, 2], \"Freq\": [0.9987687468528748, 0.014636395499110222, 0.9840161204338074, 0.576814591884613, 0.4228387475013733, 0.8169137239456177, 0.15352196991443634, 0.02924228087067604, 0.9993762373924255, 0.8856685757637024, 0.11418108642101288, 0.821751058101654, 0.17812712490558624, 0.9991212487220764, 0.3866318166255951, 0.3564905822277069, 0.08511104434728622, 0.06895620375871658, 0.09432688355445862, 0.008348471485078335, 0.0019508240511640906, 0.9949203133583069, 0.039735760539770126, 0.09411101788282394, 0.865821361541748, 0.44676586985588074, 0.027517376467585564, 0.15951129794120789, 0.032439183443784714, 0.33356431126594543, 0.49417126178741455, 0.5054601430892944, 0.9986029267311096, 0.9971880316734314, 0.9975451827049255, 0.0023139785043895245, 0.9963901042938232, 0.4167206883430481, 0.20352581143379211, 0.11634574830532074, 0.26328378915786743, 0.9980022311210632, 0.9976159334182739, 0.0320390984416008, 0.24072620272636414, 0.6511730551719666, 0.0757681354880333, 0.9971731305122375, 0.05261029675602913, 0.943477988243103, 0.9972662329673767, 0.9996153712272644, 0.5563327670097351, 0.11874868720769882, 0.3246280252933502, 0.9988093972206116, 0.17984648048877716, 0.8193005919456482, 0.9943890571594238, 0.6269381046295166, 0.37253984808921814, 0.999399721622467, 0.9994359612464905, 0.9992137551307678, 0.9989032745361328, 0.9987192749977112, 0.36707067489624023, 0.6325154304504395, 0.9994516372680664, 0.9959524273872375, 0.44408705830574036, 0.3052602708339691, 0.1838066577911377, 0.0640983060002327, 0.002697206102311611, 0.9921519756317139, 0.9979705214500427, 0.9886201620101929, 0.0017622463637962937, 0.008811231702566147, 0.1786544770002365, 0.7966403365135193, 0.024418894201517105, 0.9977219700813293, 0.992746114730835, 0.997931957244873, 0.14875268936157227, 0.8503962159156799, 0.9966756105422974, 0.0019508240511640906, 0.9949203133583069, 0.0019508240511640906, 0.9949203133583069, 0.44442009925842285, 0.5553444623947144, 0.9989648461341858, 0.9985543489456177, 0.9991980195045471, 0.47849518060684204, 0.16148534417152405, 0.047686949372291565, 0.31213274598121643, 0.7937400937080383, 0.14871817827224731, 0.05706628039479256, 0.9950057864189148, 0.29437771439552307, 0.7035322189331055, 0.0015252730809152126, 0.9977837204933167, 0.2548321783542633, 0.07221483439207077, 0.32734420895576477, 0.26374760270118713, 0.0817246064543724, 0.9999091625213623, 0.9941802024841309, 0.38830915093421936, 0.19996896386146545, 0.4113386571407318, 0.9993619918823242, 0.7112932205200195, 0.006527201738208532, 0.1252192109823227, 0.15699636936187744, 0.9984742403030396, 0.9987936019897461, 0.38397181034088135, 0.6157156229019165, 0.9934292435646057, 0.9988681674003601, 0.507071316242218, 0.07292188704013824, 0.41977643966674805, 0.9991697072982788, 0.0023974240757524967, 0.9847419261932373, 0.011987120844423771, 0.9994087219238281, 0.16717509925365448, 0.357075572013855, 0.47540420293807983, 0.9986534714698792, 0.7610702514648438, 0.23882248997688293, 0.9985010027885437, 0.9979255795478821, 0.9874374866485596, 0.011942273937165737, 0.9997552037239075, 0.09916871786117554, 0.9003733992576599, 0.9986013174057007, 0.9977610111236572, 0.9984755516052246, 0.9984856843948364, 0.9977219700813293, 0.9979817271232605, 0.0018348625162616372, 0.7097791433334351, 0.2899044156074524, 0.9980220794677734, 0.5586552023887634, 0.046512920409440994, 0.012003334239125252, 0.22856348752975464, 0.15416781604290009, 0.9996091723442078, 0.25972163677215576, 0.2643929123878479, 0.47459927201271057, 0.9988480806350708, 0.9941932559013367, 0.998622477054596, 0.9994556903839111, 0.17059803009033203, 0.39485451579093933, 0.04909178614616394, 0.3852318823337555, 0.9974079728126526, 0.9991754293441772, 0.7398413419723511, 0.04826272279024124, 0.048449788242578506, 0.16181106865406036, 0.0014965184964239597, 0.6819853186607361, 0.17144379019737244, 0.14635884761810303, 0.9988768696784973, 0.999710738658905, 0.23942357301712036, 0.30985498428344727, 0.052039194852113724, 0.24364295601844788, 0.07897840440273285, 0.07605728507041931, 0.9995561242103577, 0.6093699932098389, 0.39027389883995056, 0.9990479946136475, 0.9979173541069031, 0.12752170860767365, 0.05347684398293495, 0.1258762627840042, 0.691908061504364, 0.9985136985778809, 0.04921881854534149, 0.5272715091705322, 0.36786383390426636, 0.0555201917886734, 0.2499914914369583, 0.5202113389968872, 0.2293815165758133, 0.08569012582302094, 0.9139038324356079, 0.42057645320892334, 0.28304892778396606, 0.021208276972174644, 0.16428257524967194, 0.11077246814966202, 0.9959301948547363, 0.0769941434264183, 0.9222375154495239, 0.20496153831481934, 0.48135316371917725, 0.008307411335408688, 0.023219894617795944, 0.2820433974266052, 0.7588202357292175, 0.0032022090163081884, 0.15349943935871124, 0.0843937024474144, 0.2968127429485321, 0.7022628784179688, 0.9978947043418884, 0.8812556266784668, 0.07445193827152252, 0.04424571990966797, 0.9988672137260437, 0.9972719550132751, 0.9998197555541992, 0.48564761877059937, 0.5139148831367493, 0.9979739785194397, 0.07363642007112503, 0.582955002784729, 0.3415125012397766, 0.0018881133291870356, 0.5768088102340698, 0.03524615615606308, 0.21829062700271606, 0.016739821061491966, 0.0035330276004970074, 0.08058667927980423, 0.06880991905927658, 0.9979867935180664, 0.5245959758758545, 0.2824994921684265, 0.1927984058856964, 0.2653351426124573, 0.7334549427032471, 0.967540979385376, 0.011297769844532013, 0.020968660712242126, 0.9933292865753174, 0.006468452047556639, 0.9996301531791687, 0.9992703199386597, 0.9924132227897644, 0.5231639742851257, 0.20629729330539703, 0.2693738043308258, 0.998857855796814, 0.9982365369796753, 0.9991979598999023, 0.9988722205162048, 0.13279138505458832, 0.8050477504730225, 0.06213955581188202, 0.9977916479110718, 0.9992390871047974, 0.9989699721336365, 0.998608410358429, 0.9915086627006531, 0.9459981322288513, 0.044268764555454254, 0.009727849625051022, 0.9976485967636108, 0.12510743737220764, 0.44768664240837097, 0.3562411963939667, 0.0007200428517535329, 0.009720577858388424, 0.060483597218990326, 0.30917444825172424, 0.6893754601478577, 0.9976581931114197, 0.9978463649749756, 0.9979614019393921, 0.00786284264177084, 0.9880972504615784, 0.22070074081420898, 0.069597989320755, 0.40398016571998596, 0.2070929855108261, 0.04323296621441841, 0.05542324483394623, 0.9959065914154053, 0.9993354082107544, 0.0962725356221199, 0.9015793204307556, 0.9988850951194763, 0.0019508240511640906, 0.9949203133583069, 0.2867942750453949, 0.7125219702720642, 0.9983698129653931, 0.993615448474884, 0.007219248916953802, 0.9920451045036316, 0.9994530081748962, 0.9985093474388123, 0.9989980459213257, 0.05405398830771446, 0.8567671179771423, 0.08906363695859909, 0.9941970109939575, 0.8612405061721802, 0.13420507311820984, 0.004382206592708826, 0.9974027276039124, 0.4833031892776489, 0.5165960192680359, 0.3468581736087799, 0.6231980919837952, 0.029239283874630928, 0.9994538426399231, 0.9993777275085449, 0.7154483199119568, 0.2841733992099762, 0.6837517023086548, 0.05640951544046402, 0.127776101231575, 0.04871730878949165, 0.0829048901796341, 0.5389820337295532, 0.43450242280960083, 0.02653449960052967, 0.9975029230117798, 0.2532521188259125, 0.7461750507354736, 0.16393344104290009, 0.8355061411857605, 0.15289995074272156, 0.8467539548873901, 0.5603482723236084, 0.43862468004226685, 0.9980140924453735, 0.513889729976654, 0.20314036309719086, 0.08944714814424515, 0.13911981880664825, 0.05430395156145096, 0.1779070347547531, 0.2387525588274002, 0.5826621055603027, 0.8119762539863586, 0.0018992115510627627, 0.1014178991317749, 0.08457822352647781, 0.9962518215179443, 0.9972719550132751, 0.9984017014503479, 0.9989405870437622, 0.9984196424484253, 0.007207030430436134, 0.4271225333213806, 0.302907258272171, 0.04514992609620094, 0.21748274564743042, 0.28468674421310425, 0.4506959915161133, 0.17296981811523438, 0.005046403035521507, 0.08648490905761719, 0.9989744424819946, 0.9980841875076294, 0.0019508240511640906, 0.9949203133583069, 0.9977182149887085, 0.9994329810142517, 0.9925554990768433, 0.007325883489102125, 0.997089684009552, 0.998737633228302, 0.9977412223815918, 0.5036107301712036, 0.4954219162464142, 0.9939577579498291, 0.16598346829414368, 0.8334596753120422, 0.9993893504142761, 0.9993557333946228, 0.9993090033531189, 0.9955828189849854, 0.9967619180679321, 0.9980008602142334, 0.9912005066871643, 0.9984956383705139, 0.9990958571434021, 0.6078227162361145, 0.009011685848236084, 0.3828412890434265, 0.9989070296287537, 0.7303826808929443, 0.023990338668227196, 0.006385261658579111, 0.05801466107368469, 0.17130744457244873, 0.009942764416337013, 0.28996995091438293, 0.43781426548957825, 0.18888415396213531, 0.06038237735629082, 0.022874660789966583, 0.6578097343444824, 0.033951468765735626, 0.12371709942817688, 0.1844182163476944, 0.9955583810806274, 0.0019508240511640906, 0.9949203133583069, 0.7746049761772156, 0.19911177456378937, 0.014244881458580494, 0.01187073439359665, 0.9996256232261658, 0.9989478588104248, 0.9982125163078308, 0.9952118396759033, 0.9940776228904724, 0.00544948922470212, 0.9971957206726074, 0.9970644116401672, 0.9995474815368652, 0.1817675679922104, 0.8179540634155273, 0.0019508240511640906, 0.9949203133583069, 0.621009886264801, 0.3782951533794403, 0.49908196926116943, 0.5006909966468811, 0.9895614981651306, 0.010348140262067318, 0.9995483756065369, 0.9985432028770447, 0.8360510468482971, 0.11491215974092484, 5.789025453850627e-05, 0.01447256375104189, 0.03444470092654228, 0.0019508240511640906, 0.9949203133583069, 0.21091313660144806, 0.7877147197723389, 0.024142500013113022, 0.9396514892578125, 0.03494309261441231, 0.9982874393463135, 0.9995818734169006, 0.9997415542602539, 0.994610071182251, 0.9975209832191467, 0.9997881650924683, 0.9998560547828674, 0.9975500106811523, 0.002221714938059449, 0.8848663568496704, 0.11511030793190002, 0.9881166219711304, 0.011732739396393299, 0.9980664253234863, 0.042227085679769516, 0.9561418890953064, 0.994554340839386, 0.9993821978569031, 0.9988765716552734, 0.03870174661278725, 0.7611343264579773, 0.0043001938611269, 0.1956588178873062, 0.7650297284126282, 0.23492085933685303, 0.9980117678642273, 0.9957665801048279, 0.5284997224807739, 0.4617546498775482, 0.009556682780385017, 0.9986124634742737, 0.998867392539978, 0.9230312705039978, 0.07677974551916122, 0.9981384873390198, 0.29691076278686523, 0.15846683084964752, 0.5434783101081848, 0.996645987033844, 0.047178152948617935, 0.6700357794761658, 0.28200873732566833, 0.9998114109039307, 0.9985232949256897, 0.9991196990013123, 0.004158242139965296, 0.977186918258667, 0.018019050359725952, 0.999244749546051, 0.9995648860931396, 0.9988747239112854, 0.9984927177429199, 0.9917237758636475, 0.9986928701400757, 0.9992536306381226, 0.9921347498893738, 0.9971403479576111, 0.2873803973197937, 0.7119100689888, 0.9960386753082275, 0.5965608358383179, 0.4028780162334442, 0.0019508240511640906, 0.9949203133583069, 0.9981818199157715, 0.9986737370491028, 0.99880051612854, 0.14534597098827362, 0.2168561816215515, 0.1691827028989792, 0.468595415353775, 0.9971954822540283, 0.0019508240511640906, 0.9949203133583069, 0.4463106691837311, 0.15021741390228271, 0.3114747405052185, 0.07628712058067322, 0.01562955603003502, 0.9982427954673767, 0.9997261166572571, 0.17457211017608643, 0.8249803781509399, 0.9983592629432678, 0.9513266086578369, 0.048199813812971115, 0.8917262554168701, 0.016719866544008255, 0.09131619334220886, 0.15181639790534973, 0.8467285633087158, 0.9990946054458618, 0.5062805414199829, 0.004042543936520815, 0.2477502077817917, 0.09124599397182465, 0.033110361546278, 0.11742628365755081, 0.9874186515808105, 0.010775402188301086, 0.9982980489730835, 0.39516499638557434, 0.14114761352539062, 0.2987302243709564, 0.1259210854768753, 0.038912270218133926, 0.9781025648117065, 0.00641679298132658, 0.015278078615665436, 0.024621520191431046, 0.9750121831893921, 0.0019508240511640906, 0.9949203133583069, 0.9993097186088562, 0.9942030310630798, 0.9962854385375977, 0.9985910058021545, 0.37244805693626404, 0.231594979763031, 0.054174263030290604, 0.34129786491394043, 0.9963768720626831, 0.998711109161377, 0.9924361109733582, 0.9995564818382263, 0.9996001124382019, 0.998977541923523, 0.13470028340816498, 0.20793171226978302, 0.6571856141090393, 0.9971500039100647, 0.9978093504905701, 0.999264121055603, 0.0019466482335701585, 0.9947372674942017, 0.11811092495918274, 0.5859228372573853, 0.09360098093748093, 0.010035568848252296, 0.17735937237739563, 0.011000527068972588, 0.003859834047034383, 0.2188921421766281, 0.7801879048347473, 0.1451103240251541, 0.8375317454338074, 0.01722770929336548, 0.9992499351501465, 0.543045699596405, 0.08736035227775574, 0.36946943402290344, 0.9987648129463196, 0.9987053275108337, 0.0010230016196146607, 0.9802079200744629, 0.019015297293663025, 0.9990773797035217, 0.9961936473846436, 0.9975732564926147, 0.9989796876907349, 0.9977059364318848, 0.9983377456665039, 0.9994036555290222, 0.9969703555107117, 0.9991340637207031, 0.01661396585404873, 0.13079722225666046, 0.5079342126846313, 0.12853167951107025, 0.019483650103211403, 0.19649790227413177, 0.9991416931152344, 0.9990482330322266, 0.7607635855674744, 0.08114584535360336, 0.15803876519203186, 0.9988596439361572, 0.9984342455863953, 0.0019508240511640906, 0.9949203133583069, 0.9973252415657043, 0.4319903552532196, 0.12970702350139618, 0.4380360245704651, 0.9963206052780151, 0.9970619678497314, 0.9914074540138245, 0.6228170394897461, 0.002676964970305562, 0.0054243761114776134, 0.03247581049799919, 0.3365226686000824, 0.9987853169441223, 0.9993881583213806, 0.9979450106620789, 0.9993818998336792, 0.9959756731987, 0.9928334951400757, 0.9982640743255615, 0.8720757961273193, 0.040393564850091934, 0.08673986047506332, 0.9990949630737305, 0.999137818813324, 0.997477114200592, 0.38979506492614746, 0.6091474294662476, 0.0927320346236229, 0.9064033031463623, 0.9989074468612671, 0.0019508240511640906, 0.9949203133583069, 0.25139644742012024, 0.7293791770935059, 0.0094976294785738, 0.009691458195447922, 0.1065816581249237, 0.8930938243865967, 0.9971376061439514, 0.82021564245224, 0.17922449111938477, 0.9983932375907898, 0.5322008728981018, 0.4561503231525421, 0.0006120768957771361, 0.01086436491459608, 0.2329297661781311, 0.7667271494865417, 0.0019508240511640906, 0.9949203133583069, 0.7775553464889526, 0.22178415954113007, 0.9974326491355896, 0.9989979863166809, 0.9981471300125122, 0.9991695880889893, 0.0013134158216416836, 0.9968826174736023, 0.997174859046936, 0.9994854927062988, 0.9922567009925842, 0.9993526339530945, 0.4362960457801819, 0.3503207266330719, 0.2132187783718109, 0.9982078671455383, 0.8776988983154297, 0.12194719910621643, 0.3422629237174988, 0.1525750458240509, 0.10960227251052856, 0.3954363167285919, 0.1909046322107315, 0.48786741495132446, 0.04936865344643593, 0.12370320409536362, 0.14810596406459808, 0.9985008835792542, 0.9987875819206238, 0.322514146566391, 0.07389674335718155, 0.1747206598520279, 0.42639797925949097, 0.0024479252751916647, 0.9992619156837463], \"Term\": [\"absolutely\", \"act\", \"act\", \"admission\", \"admission\", \"advance\", \"advance\", \"advance\", \"advanced\", \"age\", \"age\", \"alone\", \"alone\", \"already_prepaid\", \"also\", \"also\", \"also\", \"also\", \"also\", \"also\", \"another_emergency\", \"another_emergency\", \"area\", \"area\", \"area\", \"arrive\", \"arrive\", \"arrive\", \"arrive\", \"arrive\", \"art\", \"art\", \"artist\", \"assortment\", \"attend\", \"attend\", \"attitude\", \"available\", \"available\", \"available\", \"available\", \"avoid_lin\", \"baby\", \"back\", \"back\", \"back\", \"back\", \"backpack\", \"bag\", \"bag\", \"ball\", \"bar\", \"base\", \"base\", \"base\", \"basic\", \"bear\", \"bear\", \"bear_mountain\", \"beer\", \"beer\", \"beginner\", \"believe\", \"best\", \"blockchain\", \"boat\", \"body\", \"body\", \"book\", \"bottle\", \"bring\", \"bring\", \"bring\", \"bring\", \"bring\", \"broadway\", \"brooklyn\", \"build\", \"build\", \"build\", \"business\", \"business\", \"business\", \"busy_professional\", \"butter\", \"calm\", \"cancel\", \"cancel\", \"cancellation_due\", \"cancellations_text\", \"cancellations_text\", \"canopy_shelter\", \"canopy_shelter\", \"casual\", \"casual\", \"cell\", \"central_park\", \"certify\", \"chance\", \"chance\", \"chance\", \"chance\", \"change\", \"change\", \"change\", \"charity\", \"check\", \"check\", \"check\", \"circle\", \"city\", \"city\", \"city\", \"city\", \"city\", \"class\", \"classic\", \"click\", \"click\", \"click\", \"coach\", \"code\", \"code\", \"code\", \"code\", \"collaboration\", \"columbia_university\", \"community\", \"community\", \"contest\", \"conversational\", \"cost\", \"cost\", \"cost\", \"costume\", \"course\", \"course\", \"course\", \"court\", \"create\", \"create\", \"create\", \"cruise\", \"dance\", \"dance\", \"dancing\", \"dave\", \"develop\", \"develop\", \"different\", \"dinner\", \"dinner\", \"discussion\", \"dj_play\", \"dog\", \"donation\", \"done_danielle\", \"door\", \"door\", \"dress\", \"dress\", \"drill\", \"drink\", \"drink\", \"drink\", \"drink\", \"drink\", \"drink_special\", \"drive\", \"drive\", \"drive\", \"dry\", \"elevation\", \"enclose\", \"energy\", \"enjoy\", \"enjoy\", \"enjoy\", \"enjoy\", \"ensure_quality\", \"ethnic_specific\", \"event\", \"event\", \"event\", \"event\", \"event\", \"everyone\", \"everyone\", \"everyone\", \"exchange\", \"expect\", \"experience\", \"experience\", \"experience\", \"experience\", \"experience\", \"experience\", \"expo\", \"fan\", \"fan\", \"fast\", \"fear\", \"field\", \"field\", \"field\", \"field\", \"film\", \"first\", \"first\", \"first\", \"first\", \"floor\", \"floor\", \"floor\", \"focus\", \"focus\", \"food\", \"food\", \"food\", \"food\", \"food\", \"football\", \"founder\", \"founder\", \"free\", \"free\", \"free\", \"free\", \"free\", \"friend\", \"friend\", \"friend\", \"friend\", \"front\", \"front\", \"fully_stock\", \"fun\", \"fun\", \"fun\", \"future\", \"future_partie\", \"game\", \"gets_closer\", \"gets_closer\", \"gift\", \"give\", \"give\", \"give\", \"give\", \"go\", \"go\", \"go\", \"go\", \"go\", \"go\", \"go\", \"god\", \"good\", \"good\", \"good\", \"grab\", \"grab\", \"great\", \"great\", \"great\", \"group\", \"group\", \"guest\", \"halloween\", \"hayride\", \"head\", \"head\", \"head\", \"heal\", \"healer\", \"healing\", \"heart\", \"help\", \"help\", \"help\", \"helpful_hint\", \"hike\", \"hiking\", \"history\", \"hoboken\", \"host\", \"host\", \"host\", \"hotel\", \"hour\", \"hour\", \"hour\", \"hour\", \"hour\", \"hour\", \"hudson_river\", \"hudson_river\", \"human\", \"icebreaker\", \"iconic\", \"impress\", \"impress\", \"include\", \"include\", \"include\", \"include\", \"include\", \"include\", \"inclusive_tailgate\", \"individual\", \"instagram\", \"instagram\", \"intermediate\", \"intermittent_shower\", \"intermittent_shower\", \"introduce\", \"introduce\", \"investor\", \"jeff\", \"journey\", \"journey\", \"lab\", \"lady\", \"league\", \"learn\", \"learn\", \"learn\", \"lee\", \"level\", \"level\", \"level\", \"liberty_brooklyn\", \"life\", \"life\", \"light\", \"light\", \"light\", \"likely\", \"limited\", \"line\", \"line\", \"link\", \"link\", \"link\", \"link\", \"link\", \"live\", \"live\", \"live\", \"locate\", \"lose\", \"lose\", \"lounge\", \"lounge\", \"love\", \"love\", \"lunch\", \"lunch\", \"main_level\", \"make\", \"make\", \"make\", \"make\", \"make\", \"man\", \"man\", \"man\", \"many\", \"many\", \"many\", \"many\", \"mao_list\", \"mao_table\", \"map\", \"marina\", \"market\", \"mask\", \"mask\", \"mask\", \"mask\", \"mask\", \"masked\", \"masked\", \"masked\", \"masked\", \"masked\", \"match\", \"mature\", \"max_player\", \"max_player\", \"medicine\", \"meditation\", \"member\", \"member\", \"membership\", \"mention\", \"method\", \"mile\", \"mile\", \"mill\", \"mind\", \"mind\", \"mingle\", \"minimum\", \"mix_mingle\", \"moderate\", \"monarch\", \"monarch_rooftop\", \"moon\", \"mostly\", \"movement\", \"multi\", \"multi\", \"multi\", \"multiple\", \"must\", \"must\", \"must\", \"must\", \"must\", \"must\", \"need\", \"need\", \"need\", \"need\", \"need\", \"night\", \"night\", \"night\", \"night\", \"non_refundable\", \"notified_asap\", \"notified_asap\", \"number\", \"number\", \"number\", \"number\", \"october\", \"optional\", \"outdoor\", \"overlook\", \"page\", \"page\", \"paid_park\", \"panoramic_view\", \"park\", \"parking\", \"parking\", \"participants_shown\", \"participants_shown\", \"partner\", \"partner\", \"party\", \"party\", \"pay\", \"pay\", \"payment\", \"paypal\", \"people\", \"people\", \"people\", \"people\", \"people\", \"perfect_blend\", \"perfect_blend\", \"personal\", \"personal\", \"photo\", \"photo\", \"photo\", \"photography\", \"play\", \"player\", \"pound\", \"power\", \"practice\", \"pre\", \"prepay\", \"prepay\", \"private\", \"private\", \"prize\", \"prize\", \"prizes_giveaway\", \"process\", \"process\", \"processing_fee\", \"program\", \"project\", \"provide\", \"provide\", \"provide\", \"provide\", \"purchase\", \"purchase\", \"purpose\", \"queen\", \"question\", \"question\", \"question\", \"racquet\", \"raffle\", \"rain\", \"rain\", \"real_estate\", \"receive\", \"receive\", \"receive\", \"red_button\", \"refund\", \"refund\", \"refund\", \"register\", \"regular\", \"relationship\", \"release\", \"release\", \"release\", \"remember\", \"reserve\", \"resource\", \"road\", \"robot\", \"rooftop\", \"round\", \"row\", \"rsvping_without\", \"run\", \"run\", \"salsa\", \"saturday\", \"saturday\", \"says_login\", \"says_login\", \"schedule\", \"science\", \"season\", \"seat\", \"seat\", \"seat\", \"seat\", \"second_level\", \"secure_scheduling\", \"secure_scheduling\", \"see\", \"see\", \"see\", \"see\", \"see\", \"seek\", \"sell\", \"send\", \"send\", \"session\", \"several\", \"several\", \"share\", \"share\", \"share\", \"shine\", \"shine\", \"shop\", \"show\", \"show\", \"show\", \"show\", \"show\", \"show\", \"side\", \"side\", \"sight\", \"sign\", \"sign\", \"sign\", \"sign\", \"sign\", \"single\", \"single\", \"single\", \"site\", \"site\", \"size_maximum\", \"size_maximum\", \"skill\", \"sky\", \"slate\", \"slate_ny\", \"snack\", \"snack\", \"snack\", \"snack\", \"soccer\", \"soho\", \"song\", \"specific\", \"spirit\", \"spiritual\", \"spot\", \"spot\", \"spot\", \"squeegee\", \"stadium\", \"staff\", \"star_review\", \"star_review\", \"start\", \"start\", \"start\", \"start\", \"start\", \"start\", \"start\", \"state\", \"state\", \"station\", \"station\", \"station\", \"stop\", \"street\", \"street\", \"street\", \"stress\", \"student\", \"student\", \"studio\", \"studio\", \"stylish\", \"subscribe\", \"suffer\", \"suggest\", \"suggest_neat\", \"super_friendly\", \"support\", \"supportive\", \"tailgate\", \"take\", \"take\", \"take\", \"take\", \"take\", \"take\", \"tango\", \"teach\", \"team\", \"team\", \"team\", \"technique\", \"tennis\", \"tennis_lesson\", \"tennis_lesson\", \"tent\", \"text\", \"text\", \"text\", \"text_whatsapp\", \"thousand\", \"thus\", \"ticket\", \"ticket\", \"ticket\", \"ticket\", \"ticket\", \"tired\", \"tool\", \"top_hit\", \"tour\", \"tournament\", \"trace\", \"trail\", \"train\", \"train\", \"train\", \"training\", \"transform\", \"translation\", \"transportation\", \"transportation\", \"trip\", \"trip\", \"tuesday\", \"updates_postponement\", \"updates_postponement\", \"use\", \"use\", \"use\", \"use\", \"video\", \"video\", \"vote\", \"walk\", \"walk\", \"walk_block\", \"want\", \"want\", \"want\", \"want\", \"watch\", \"watch\", \"watch_tenni\", \"watch_tenni\", \"water\", \"water\", \"water_fountain\", \"weather\", \"weekend\", \"weekly\", \"weekly_ascension\", \"weekly_ascension\", \"whatsapp\", \"win\", \"winery\", \"word\", \"work\", \"work\", \"work\", \"workout\", \"workshop\", \"workshop\", \"world\", \"world\", \"world\", \"world\", \"would\", \"would\", \"would\", \"would\", \"would\", \"write\", \"yacht\", \"year\", \"year\", \"year\", \"year\", \"year\", \"yoga\"]}, \"R\": 30, \"lambda.step\": 0.01, \"plot.opts\": {\"xlab\": \"PC1\", \"ylab\": \"PC2\"}, \"topic.order\": [5, 6, 4, 3, 2, 7, 8, 1]};\n",
       "\n",
       "function LDAvis_load_lib(url, callback){\n",
       "  var s = document.createElement('script');\n",
       "  s.src = url;\n",
       "  s.async = true;\n",
       "  s.onreadystatechange = s.onload = callback;\n",
       "  s.onerror = function(){console.warn(\"failed to load library \" + url);};\n",
       "  document.getElementsByTagName(\"head\")[0].appendChild(s);\n",
       "}\n",
       "\n",
       "if(typeof(LDAvis) !== \"undefined\"){\n",
       "   // already loaded: just create the visualization\n",
       "   !function(LDAvis){\n",
       "       new LDAvis(\"#\" + \"ldavis_el81401132018730883348050966\", ldavis_el81401132018730883348050966_data);\n",
       "   }(LDAvis);\n",
       "}else if(typeof define === \"function\" && define.amd){\n",
       "   // require.js is available: use it to load d3/LDAvis\n",
       "   require.config({paths: {d3: \"https://cdnjs.cloudflare.com/ajax/libs/d3/3.5.5/d3.min\"}});\n",
       "   require([\"d3\"], function(d3){\n",
       "      window.d3 = d3;\n",
       "      LDAvis_load_lib(\"https://cdn.rawgit.com/bmabey/pyLDAvis/files/ldavis.v1.0.0.js\", function(){\n",
       "        new LDAvis(\"#\" + \"ldavis_el81401132018730883348050966\", ldavis_el81401132018730883348050966_data);\n",
       "      });\n",
       "    });\n",
       "}else{\n",
       "    // require.js not available: dynamically load d3 & LDAvis\n",
       "    LDAvis_load_lib(\"https://cdnjs.cloudflare.com/ajax/libs/d3/3.5.5/d3.min.js\", function(){\n",
       "         LDAvis_load_lib(\"https://cdn.rawgit.com/bmabey/pyLDAvis/files/ldavis.v1.0.0.js\", function(){\n",
       "                 new LDAvis(\"#\" + \"ldavis_el81401132018730883348050966\", ldavis_el81401132018730883348050966_data);\n",
       "            })\n",
       "         });\n",
       "}\n",
       "</script>"
      ],
      "text/plain": [
       "PreparedData(topic_coordinates=              x         y  topics  cluster       Freq\n",
       "topic                                                \n",
       "4     -0.144418  0.125431       1        1  31.613117\n",
       "5     -0.232441 -0.063189       2        1  25.051815\n",
       "3     -0.131124  0.029742       3        1  15.332331\n",
       "2     -0.114912 -0.317078       4        1  12.603213\n",
       "1     -0.040700  0.188782       5        1   5.652042\n",
       "6      0.117482  0.205228       6        1   5.229157\n",
       "7      0.283564 -0.056531       7        1   2.585008\n",
       "0      0.262549 -0.112384       8        1   1.933316, topic_info=      Category          Freq            Term         Total  loglift  logprob\n",
       "term                                                                        \n",
       "419    Default  20614.000000           class  20614.000000  30.0000  30.0000\n",
       "1954   Default   6995.000000            game   6995.000000  29.0000  29.0000\n",
       "409    Default  14195.000000          ticket  14195.000000  28.0000  28.0000\n",
       "146    Default  10962.000000            must  10962.000000  27.0000  27.0000\n",
       "13     Default  14685.000000            free  14685.000000  26.0000  26.0000\n",
       "1167   Default   9922.000000        purchase   9922.000000  25.0000  25.0000\n",
       "1342   Default   7084.000000           dance   7084.000000  24.0000  24.0000\n",
       "886    Default   4223.000000            play   4223.000000  23.0000  23.0000\n",
       "1619   Default   6836.000000           party   6836.000000  22.0000  22.0000\n",
       "5219   Default   3769.000000          player   3769.000000  21.0000  21.0000\n",
       "388    Default  12176.000000             pay  12176.000000  20.0000  20.0000\n",
       "104    Default   5878.000000            team   5878.000000  19.0000  19.0000\n",
       "187    Default  11887.000000              go  11887.000000  18.0000  18.0000\n",
       "2692   Default   8417.000000        practice   8417.000000  17.0000  17.0000\n",
       "14     Default   9680.000000          friend   9680.000000  16.0000  16.0000\n",
       "1916   Default   7606.000000           alone   7606.000000  15.0000  15.0000\n",
       "2235   Default   8495.000000             age   8495.000000  14.0000  14.0000\n",
       "78     Default   7997.000000           drink   7997.000000  13.0000  13.0000\n",
       "533    Default   6131.000000           enjoy   6131.000000  12.0000  12.0000\n",
       "194    Default   9828.000000          member   9828.000000  11.0000  11.0000\n",
       "237    Default   9435.000000            mask   9435.000000  10.0000  10.0000\n",
       "230    Default  11064.000000           great  11064.000000   9.0000   9.0000\n",
       "173    Default   9075.000000          attend   9075.000000   8.0000   8.0000\n",
       "767    Default  17274.000000          people  17274.000000   7.0000   7.0000\n",
       "1156   Default   7775.000000           night   7775.000000   6.0000   6.0000\n",
       "142    Default   7302.000000           level   7302.000000   5.0000   5.0000\n",
       "1053   Default   5746.000000          masked   5746.000000   4.0000   4.0000\n",
       "2967   Default   5239.000000           dress   5239.000000   3.0000   3.0000\n",
       "1829   Default   5242.000000          street   5242.000000   2.0000   2.0000\n",
       "545    Default  11752.000000             fun  11752.000000   1.0000   1.0000\n",
       "...        ...           ...             ...           ...      ...      ...\n",
       "1021    Topic8    223.929718       elevation    225.308304   3.9398  -5.2717\n",
       "5469    Topic8    222.360275          winery    223.732422   3.9398  -5.2788\n",
       "3835    Topic8    213.793060  processing_fee    215.171753   3.9395  -5.3181\n",
       "1601    Topic8    211.820633   bear_mountain    213.196228   3.9395  -5.3273\n",
       "6600    Topic8    208.846649             sky    210.218628   3.9394  -5.3415\n",
       "3896    Topic8    205.444611            moon    206.819916   3.9393  -5.3579\n",
       "14672   Topic8    199.144272         hayride    200.521317   3.9390  -5.3890\n",
       "9894    Topic8    195.143600             row    196.545883   3.9388  -5.4093\n",
       "8448    Topic8    201.224319           robot    202.677399   3.9387  -5.3787\n",
       "12289   Topic8    187.242172            thus    188.620728   3.9386  -5.4507\n",
       "12827   Topic8    182.619263           pound    183.991699   3.9384  -5.4757\n",
       "1277    Topic8    181.899460          butter    183.329849   3.9381  -5.4796\n",
       "19183   Topic8    175.748108            jeff    177.130905   3.9381  -5.5140\n",
       "3229    Topic8    174.115326         hoboken    175.490143   3.9381  -5.5234\n",
       "9359    Topic8    169.617386             lee    170.992264   3.9379  -5.5495\n",
       "4161    Topic8    166.831314           trace    168.205444   3.9377  -5.5661\n",
       "1197    Topic8   1299.787109            trip   1434.240112   3.8475  -3.5131\n",
       "1109    Topic8    268.659515             bag    285.115295   3.8865  -5.0896\n",
       "618     Topic8    409.605713            bear    500.426819   3.7457  -4.6679\n",
       "1263    Topic8    410.844879  transportation    674.713501   3.4499  -4.6649\n",
       "2022    Topic8    329.835999    hudson_river    478.694153   3.5735  -4.8845\n",
       "1577    Topic8    627.333984           lunch   1429.468140   3.1224  -4.2416\n",
       "1056    Topic8    483.964386            mile    976.945068   3.2435  -4.5011\n",
       "743     Topic8    508.066956           drive   1070.376709   3.2008  -4.4525\n",
       "620     Topic8    472.587494            beer   1269.662842   2.9576  -4.5249\n",
       "1035    Topic8    362.897949            head   1347.569824   2.6340  -4.7890\n",
       "1053    Topic8    497.203796          masked   5746.667480   1.4986  -4.4741\n",
       "55      Topic8    387.717499            link   4680.061523   1.4551  -4.7228\n",
       "51      Topic8    390.509186         include   7054.801758   1.0519  -4.7156\n",
       "1179    Topic8    251.984665           snack    738.357971   2.8709  -5.1537\n",
       "\n",
       "[471 rows x 6 columns], token_table=       Topic      Freq               Term\n",
       "term                                     \n",
       "1213       5  0.998769         absolutely\n",
       "2660       1  0.014636                act\n",
       "2660       4  0.984016                act\n",
       "471        1  0.576815          admission\n",
       "471        5  0.422839          admission\n",
       "1425       1  0.816914            advance\n",
       "1425       6  0.153522            advance\n",
       "1425       7  0.029242            advance\n",
       "2410       1  0.999376           advanced\n",
       "2235       1  0.885669                age\n",
       "2235       6  0.114181                age\n",
       "1916       1  0.821751              alone\n",
       "1916       6  0.178127              alone\n",
       "6833       6  0.999121    already_prepaid\n",
       "323        1  0.386632               also\n",
       "323        2  0.356491               also\n",
       "323        3  0.085111               also\n",
       "323        4  0.068956               also\n",
       "323        5  0.094327               also\n",
       "323        7  0.008348               also\n",
       "31523      3  0.001951  another_emergency\n",
       "31523      7  0.994920  another_emergency\n",
       "1005       1  0.039736               area\n",
       "1005       2  0.094111               area\n",
       "1005       3  0.865821               area\n",
       "725        1  0.446766             arrive\n",
       "725        2  0.027517             arrive\n",
       "725        3  0.159511             arrive\n",
       "725        4  0.032439             arrive\n",
       "725        6  0.333564             arrive\n",
       "...      ...       ...                ...\n",
       "4678       2  0.999170             weekly\n",
       "29702      2  0.001313   weekly_ascension\n",
       "29702      4  0.996883   weekly_ascension\n",
       "7661       5  0.997175           whatsapp\n",
       "675        1  0.999485                win\n",
       "5469       8  0.992257             winery\n",
       "2846       1  0.999353               word\n",
       "42         1  0.436296               work\n",
       "42         2  0.350321               work\n",
       "42         4  0.213219               work\n",
       "1400       3  0.998208            workout\n",
       "43         2  0.877699           workshop\n",
       "43         4  0.121947           workshop\n",
       "108        1  0.342263              world\n",
       "108        2  0.152575              world\n",
       "108        3  0.109602              world\n",
       "108        4  0.395436              world\n",
       "1099       1  0.190905              would\n",
       "1099       2  0.487867              would\n",
       "1099       3  0.049369              would\n",
       "1099       4  0.123703              would\n",
       "1099       5  0.148106              would\n",
       "109        2  0.998501              write\n",
       "4542       6  0.998788              yacht\n",
       "610        1  0.322514               year\n",
       "610        2  0.073897               year\n",
       "610        3  0.174721               year\n",
       "610        4  0.426398               year\n",
       "610        5  0.002448               year\n",
       "3843       2  0.999262               yoga\n",
       "\n",
       "[735 rows x 3 columns], R=30, lambda_step=0.01, plot_opts={'xlab': 'PC1', 'ylab': 'PC2'}, topic_order=[5, 6, 4, 3, 2, 7, 8, 1])"
      ]
     },
     "execution_count": 23,
     "metadata": {},
     "output_type": "execute_result"
    }
   ],
   "source": [
    "# Visualize the topics\n",
    "pyLDAvis.enable_notebook()\n",
    "visual = pyLDAvis.gensim.prepare(lda_model_8, corpus, id2word)\n",
    "visual"
   ]
  },
  {
   "cell_type": "markdown",
   "metadata": {},
   "source": [
    "Find optimal number of topics"
   ]
  },
  {
   "cell_type": "code",
   "execution_count": null,
   "metadata": {},
   "outputs": [],
   "source": [
    "def compute_coherence_values(dictionary, corpus, texts, limit, start=2, step=5):\n",
    "    \"\"\"\n",
    "    Compute c_v coherence for various number of topics\n",
    "\n",
    "    Parameters:\n",
    "    ----------\n",
    "    dictionary : Gensim dictionary\n",
    "    corpus : Gensim corpus\n",
    "    texts : List of input texts\n",
    "    limit : Max num of topics\n",
    "\n",
    "    Returns:\n",
    "    -------\n",
    "    model_list : List of LDA topic models\n",
    "    coherence_values : Coherence values corresponding to the LDA model with respective number of topics\n",
    "    \"\"\"\n",
    "    coherence_values = []\n",
    "    model_list = []\n",
    "    for num_topics in range(start, limit, step):\n",
    "        model = gensim.models.ldamodel.LdaModel(corpus=corpus,\n",
    "                                           id2word=id2word,\n",
    "                                           num_topics=num_topics , \n",
    "                                           random_state=100,\n",
    "                                           update_every=1,\n",
    "                                           chunksize=100,\n",
    "                                           passes=5,\n",
    "                                           alpha='auto',\n",
    "                                           per_word_topics=True)\n",
    "        model_list.append(model)\n",
    "        coherencemodel = CoherenceModel(model=model, texts=texts, dictionary=dictionary, coherence='c_v')\n",
    "        coherence_values.append(coherencemodel.get_coherence())\n",
    "\n",
    "    return model_list, coherence_values"
   ]
  },
  {
   "cell_type": "code",
   "execution_count": null,
   "metadata": {},
   "outputs": [],
   "source": [
    "model_list, coherence_values = compute_coherence_values(dictionary=id2word, corpus=corpus, texts=data_lemmatized, start=2, limit=40, step=6)"
   ]
  },
  {
   "cell_type": "code",
   "execution_count": 31,
   "metadata": {},
   "outputs": [
    {
     "data": {
      "image/png": "[encoded data removed]",
      "text/plain": [
       "<Figure size 432x288 with 1 Axes>"
      ]
     },
     "metadata": {
      "needs_background": "light"
     },
     "output_type": "display_data"
    }
   ],
   "source": [
    "# Show graph\n",
    "limit=40; start=2; step=6;\n",
    "x = range(start, limit, step)\n",
    "plt.plot(x, coherence_values)\n",
    "plt.xlabel(\"Num Topics\")\n",
    "plt.ylabel(\"Coherence score\")\n",
    "plt.legend((\"coherence_values\"), loc='best')\n",
    "plt.title('Coherence Score for Varying Number of Topics')\n",
    "plt.show()"
   ]
  },
  {
   "cell_type": "code",
   "execution_count": 32,
   "metadata": {},
   "outputs": [
    {
     "name": "stdout",
     "output_type": "stream",
     "text": [
      "Num Topics = 2  has Coherence Value of 0.4783\n",
      "Num Topics = 8  has Coherence Value of 0.4881\n",
      "Num Topics = 14  has Coherence Value of 0.4731\n",
      "Num Topics = 20  has Coherence Value of 0.4219\n",
      "Num Topics = 26  has Coherence Value of 0.3907\n",
      "Num Topics = 32  has Coherence Value of 0.3911\n",
      "Num Topics = 38  has Coherence Value of 0.3977\n"
     ]
    }
   ],
   "source": [
    "for m, cv in zip(x, coherence_values):\n",
    "    print(\"Num Topics =\", m, \" has Coherence Value of\", round(cv, 4))"
   ]
  },
  {
   "cell_type": "markdown",
   "metadata": {},
   "source": [
    "Assign topic with keywords to each document."
   ]
  },
  {
   "cell_type": "code",
   "execution_count": 25,
   "metadata": {},
   "outputs": [],
   "source": [
    "def format_topics_sentences(ldamodel=lda_model_8, corpus=corpus, texts=data):\n",
    "    # Init output\n",
    "    topics_df = pd.DataFrame()\n",
    "\n",
    "    # Get main topic in each document\n",
    "    for i, row in enumerate(ldamodel[corpus]):\n",
    "        row = sorted(row[0], key =lambda x: (x[1]), reverse = True)\n",
    "        # Get the Dominant topic, Perc Contribution and Keywords for each document\n",
    "        for j, (topic_num, prop_topic) in enumerate(row):\n",
    "            if j == 0:  # => dominant topic\n",
    "                wp = ldamodel.show_topic(topic_num)\n",
    "                topic_keywords = \", \".join([word for word, prop in wp])\n",
    "                topics_df = topics_df.append(pd.Series([int(topic_num), round(prop_topic,4), topic_keywords]), ignore_index=True)\n",
    "            else:\n",
    "                break\n",
    "    topics_df.columns = ['Dominant_Topic', 'Perc_Contribution', 'Topic_Keywords']\n",
    "\n",
    "    # Add original text to the end of the output\n",
    "    contents = pd.Series(texts)\n",
    "    topics_df = pd.concat([topics_df, contents], axis=1)\n",
    "    return(topics_df)\n",
    "\n"
   ]
  },
  {
   "cell_type": "code",
   "execution_count": 26,
   "metadata": {},
   "outputs": [],
   "source": [
    "df_topic_keywords = format_topics_sentences(lda_model_8, corpus, data)"
   ]
  },
  {
   "cell_type": "code",
   "execution_count": 27,
   "metadata": {},
   "outputs": [
    {
     "data": {
      "text/html": [
       "<div>\n",
       "<style scoped>\n",
       "    .dataframe tbody tr th:only-of-type {\n",
       "        vertical-align: middle;\n",
       "    }\n",
       "\n",
       "    .dataframe tbody tr th {\n",
       "        vertical-align: top;\n",
       "    }\n",
       "\n",
       "    .dataframe thead th {\n",
       "        text-align: right;\n",
       "    }\n",
       "</style>\n",
       "<table border=\"1\" class=\"dataframe\">\n",
       "  <thead>\n",
       "    <tr style=\"text-align: right;\">\n",
       "      <th></th>\n",
       "      <th>Document_No</th>\n",
       "      <th>Dominant_Topic</th>\n",
       "      <th>Topic_Perc_Contrib</th>\n",
       "      <th>Keywords</th>\n",
       "      <th>Text</th>\n",
       "    </tr>\n",
       "  </thead>\n",
       "  <tbody>\n",
       "    <tr>\n",
       "      <th>0</th>\n",
       "      <td>0</td>\n",
       "      <td>5.0</td>\n",
       "      <td>0.8443</td>\n",
       "      <td>class, practice, learn, free, level, october, ...</td>\n",
       "      <td>Join us in person or tune in online! Livestrea...</td>\n",
       "    </tr>\n",
       "    <tr>\n",
       "      <th>1</th>\n",
       "      <td>1</td>\n",
       "      <td>5.0</td>\n",
       "      <td>0.8589</td>\n",
       "      <td>class, practice, learn, free, level, october, ...</td>\n",
       "      <td>Get started now on challenges related to these...</td>\n",
       "    </tr>\n",
       "    <tr>\n",
       "      <th>2</th>\n",
       "      <td>2</td>\n",
       "      <td>5.0</td>\n",
       "      <td>0.8839</td>\n",
       "      <td>class, practice, learn, free, level, october, ...</td>\n",
       "      <td>In this workshop we’ll get a clear sense of th...</td>\n",
       "    </tr>\n",
       "    <tr>\n",
       "      <th>3</th>\n",
       "      <td>3</td>\n",
       "      <td>5.0</td>\n",
       "      <td>0.8442</td>\n",
       "      <td>class, practice, learn, free, level, october, ...</td>\n",
       "      <td>The number of opportunities for software engin...</td>\n",
       "    </tr>\n",
       "    <tr>\n",
       "      <th>4</th>\n",
       "      <td>4</td>\n",
       "      <td>5.0</td>\n",
       "      <td>0.8911</td>\n",
       "      <td>class, practice, learn, free, level, october, ...</td>\n",
       "      <td>Please tune into the stream here:  Do you want...</td>\n",
       "    </tr>\n",
       "    <tr>\n",
       "      <th>5</th>\n",
       "      <td>5</td>\n",
       "      <td>5.0</td>\n",
       "      <td>0.8442</td>\n",
       "      <td>class, practice, learn, free, level, october, ...</td>\n",
       "      <td>Join us in person or tune in online! Livestrea...</td>\n",
       "    </tr>\n",
       "    <tr>\n",
       "      <th>6</th>\n",
       "      <td>6</td>\n",
       "      <td>5.0</td>\n",
       "      <td>0.8435</td>\n",
       "      <td>class, practice, learn, free, level, october, ...</td>\n",
       "      <td>Please register for and tune into the stream h...</td>\n",
       "    </tr>\n",
       "    <tr>\n",
       "      <th>7</th>\n",
       "      <td>7</td>\n",
       "      <td>5.0</td>\n",
       "      <td>0.7862</td>\n",
       "      <td>class, practice, learn, free, level, october, ...</td>\n",
       "      <td>Join us on Thursday, Sep 13, for a great serie...</td>\n",
       "    </tr>\n",
       "    <tr>\n",
       "      <th>8</th>\n",
       "      <td>8</td>\n",
       "      <td>5.0</td>\n",
       "      <td>0.7189</td>\n",
       "      <td>class, practice, learn, free, level, october, ...</td>\n",
       "      <td>Join us on Thursday, for a great series of lig...</td>\n",
       "    </tr>\n",
       "    <tr>\n",
       "      <th>9</th>\n",
       "      <td>9</td>\n",
       "      <td>5.0</td>\n",
       "      <td>0.5681</td>\n",
       "      <td>class, practice, learn, free, level, october, ...</td>\n",
       "      <td>In this online workshop (9am-3pm PST / 12-6pm ...</td>\n",
       "    </tr>\n",
       "    <tr>\n",
       "      <th>10</th>\n",
       "      <td>10</td>\n",
       "      <td>5.0</td>\n",
       "      <td>0.8911</td>\n",
       "      <td>class, practice, learn, free, level, october, ...</td>\n",
       "      <td>Please tune into the stream here:  Do you want...</td>\n",
       "    </tr>\n",
       "    <tr>\n",
       "      <th>11</th>\n",
       "      <td>11</td>\n",
       "      <td>5.0</td>\n",
       "      <td>0.8627</td>\n",
       "      <td>class, practice, learn, free, level, october, ...</td>\n",
       "      <td>Please join the Livestream here:  This week we...</td>\n",
       "    </tr>\n",
       "    <tr>\n",
       "      <th>12</th>\n",
       "      <td>12</td>\n",
       "      <td>5.0</td>\n",
       "      <td>0.8136</td>\n",
       "      <td>class, practice, learn, free, level, october, ...</td>\n",
       "      <td>Join us in person or tune in online. Livestrea...</td>\n",
       "    </tr>\n",
       "    <tr>\n",
       "      <th>13</th>\n",
       "      <td>13</td>\n",
       "      <td>5.0</td>\n",
       "      <td>0.8442</td>\n",
       "      <td>class, practice, learn, free, level, october, ...</td>\n",
       "      <td>The number of opportunities for software engin...</td>\n",
       "    </tr>\n",
       "    <tr>\n",
       "      <th>14</th>\n",
       "      <td>14</td>\n",
       "      <td>5.0</td>\n",
       "      <td>0.9033</td>\n",
       "      <td>class, practice, learn, free, level, october, ...</td>\n",
       "      <td>If you’ve ever been invited for an interview—a...</td>\n",
       "    </tr>\n",
       "    <tr>\n",
       "      <th>15</th>\n",
       "      <td>15</td>\n",
       "      <td>5.0</td>\n",
       "      <td>0.8869</td>\n",
       "      <td>class, practice, learn, free, level, october, ...</td>\n",
       "      <td>Join us onsite or tune in online at -  During ...</td>\n",
       "    </tr>\n",
       "    <tr>\n",
       "      <th>16</th>\n",
       "      <td>16</td>\n",
       "      <td>5.0</td>\n",
       "      <td>0.6810</td>\n",
       "      <td>class, practice, learn, free, level, october, ...</td>\n",
       "      <td>Please tune into the stream here:  Do you want...</td>\n",
       "    </tr>\n",
       "    <tr>\n",
       "      <th>17</th>\n",
       "      <td>17</td>\n",
       "      <td>5.0</td>\n",
       "      <td>0.7944</td>\n",
       "      <td>class, practice, learn, free, level, october, ...</td>\n",
       "      <td>This is a ONLINE ONLY JavaScript The Hard Part...</td>\n",
       "    </tr>\n",
       "    <tr>\n",
       "      <th>18</th>\n",
       "      <td>18</td>\n",
       "      <td>5.0</td>\n",
       "      <td>0.8614</td>\n",
       "      <td>class, practice, learn, free, level, october, ...</td>\n",
       "      <td>Join us at Codesmith for an open house informa...</td>\n",
       "    </tr>\n",
       "    <tr>\n",
       "      <th>19</th>\n",
       "      <td>19</td>\n",
       "      <td>5.0</td>\n",
       "      <td>0.7453</td>\n",
       "      <td>class, practice, learn, free, level, october, ...</td>\n",
       "      <td>Join us in person or tune in online. Livestrea...</td>\n",
       "    </tr>\n",
       "  </tbody>\n",
       "</table>\n",
       "</div>"
      ],
      "text/plain": [
       "    Document_No  Dominant_Topic  Topic_Perc_Contrib  \\\n",
       "0             0             5.0              0.8443   \n",
       "1             1             5.0              0.8589   \n",
       "2             2             5.0              0.8839   \n",
       "3             3             5.0              0.8442   \n",
       "4             4             5.0              0.8911   \n",
       "5             5             5.0              0.8442   \n",
       "6             6             5.0              0.8435   \n",
       "7             7             5.0              0.7862   \n",
       "8             8             5.0              0.7189   \n",
       "9             9             5.0              0.5681   \n",
       "10           10             5.0              0.8911   \n",
       "11           11             5.0              0.8627   \n",
       "12           12             5.0              0.8136   \n",
       "13           13             5.0              0.8442   \n",
       "14           14             5.0              0.9033   \n",
       "15           15             5.0              0.8869   \n",
       "16           16             5.0              0.6810   \n",
       "17           17             5.0              0.7944   \n",
       "18           18             5.0              0.8614   \n",
       "19           19             5.0              0.7453   \n",
       "\n",
       "                                             Keywords  \\\n",
       "0   class, practice, learn, free, level, october, ...   \n",
       "1   class, practice, learn, free, level, october, ...   \n",
       "2   class, practice, learn, free, level, october, ...   \n",
       "3   class, practice, learn, free, level, october, ...   \n",
       "4   class, practice, learn, free, level, october, ...   \n",
       "5   class, practice, learn, free, level, october, ...   \n",
       "6   class, practice, learn, free, level, october, ...   \n",
       "7   class, practice, learn, free, level, october, ...   \n",
       "8   class, practice, learn, free, level, october, ...   \n",
       "9   class, practice, learn, free, level, october, ...   \n",
       "10  class, practice, learn, free, level, october, ...   \n",
       "11  class, practice, learn, free, level, october, ...   \n",
       "12  class, practice, learn, free, level, october, ...   \n",
       "13  class, practice, learn, free, level, october, ...   \n",
       "14  class, practice, learn, free, level, october, ...   \n",
       "15  class, practice, learn, free, level, october, ...   \n",
       "16  class, practice, learn, free, level, october, ...   \n",
       "17  class, practice, learn, free, level, october, ...   \n",
       "18  class, practice, learn, free, level, october, ...   \n",
       "19  class, practice, learn, free, level, october, ...   \n",
       "\n",
       "                                                 Text  \n",
       "0   Join us in person or tune in online! Livestrea...  \n",
       "1   Get started now on challenges related to these...  \n",
       "2   In this workshop we’ll get a clear sense of th...  \n",
       "3   The number of opportunities for software engin...  \n",
       "4   Please tune into the stream here:  Do you want...  \n",
       "5   Join us in person or tune in online! Livestrea...  \n",
       "6   Please register for and tune into the stream h...  \n",
       "7   Join us on Thursday, Sep 13, for a great serie...  \n",
       "8   Join us on Thursday, for a great series of lig...  \n",
       "9   In this online workshop (9am-3pm PST / 12-6pm ...  \n",
       "10  Please tune into the stream here:  Do you want...  \n",
       "11  Please join the Livestream here:  This week we...  \n",
       "12  Join us in person or tune in online. Livestrea...  \n",
       "13  The number of opportunities for software engin...  \n",
       "14  If you’ve ever been invited for an interview—a...  \n",
       "15  Join us onsite or tune in online at -  During ...  \n",
       "16  Please tune into the stream here:  Do you want...  \n",
       "17  This is a ONLINE ONLY JavaScript The Hard Part...  \n",
       "18  Join us at Codesmith for an open house informa...  \n",
       "19  Join us in person or tune in online. Livestrea...  "
      ]
     },
     "execution_count": 27,
     "metadata": {},
     "output_type": "execute_result"
    }
   ],
   "source": [
    "# Format\n",
    "df_dominant_topic = df_topic_keywords.reset_index()\n",
    "df_dominant_topic.columns = ['Document_No', 'Dominant_Topic', 'Topic_Perc_Contrib', 'Keywords', 'Text']\n",
    "\n",
    "# Show\n",
    "df_dominant_topic.head(20)"
   ]
  },
  {
   "cell_type": "code",
   "execution_count": 28,
   "metadata": {},
   "outputs": [],
   "source": [
    "df_keywords_value_counts = pd.DataFrame(df_dominant_topic.Keywords.value_counts()).reset_index()\n",
    "df_keywords_value_counts.columns = [['keywords', 'occurence']]"
   ]
  },
  {
   "cell_type": "code",
   "execution_count": 32,
   "metadata": {},
   "outputs": [
    {
     "data": {
      "text/html": [
       "<div>\n",
       "<style scoped>\n",
       "    .dataframe tbody tr th:only-of-type {\n",
       "        vertical-align: middle;\n",
       "    }\n",
       "\n",
       "    .dataframe tbody tr th {\n",
       "        vertical-align: top;\n",
       "    }\n",
       "\n",
       "    .dataframe thead tr th {\n",
       "        text-align: left;\n",
       "    }\n",
       "</style>\n",
       "<table border=\"1\" class=\"dataframe\">\n",
       "  <thead>\n",
       "    <tr>\n",
       "      <th></th>\n",
       "      <th>keywords</th>\n",
       "      <th>occurence</th>\n",
       "    </tr>\n",
       "  </thead>\n",
       "  <tbody>\n",
       "    <tr>\n",
       "      <th>0</th>\n",
       "      <td>class, practice, learn, free, level, october, mask, student, bring, business</td>\n",
       "      <td>9744</td>\n",
       "    </tr>\n",
       "    <tr>\n",
       "      <th>1</th>\n",
       "      <td>people, pay, great, fun, member, attend, ticket, must, purchase, age</td>\n",
       "      <td>6518</td>\n",
       "    </tr>\n",
       "    <tr>\n",
       "      <th>2</th>\n",
       "      <td>rain, park, take, mask, include, street, go, site, see, enjoy</td>\n",
       "      <td>3477</td>\n",
       "    </tr>\n",
       "    <tr>\n",
       "      <th>3</th>\n",
       "      <td>energy, life, meditation, year, body, experience, healing, work, world, create</td>\n",
       "      <td>2621</td>\n",
       "    </tr>\n",
       "    <tr>\n",
       "      <th>4</th>\n",
       "      <td>dance, free, party, mask, tango, drink, city, dress, friend, floor</td>\n",
       "      <td>1762</td>\n",
       "    </tr>\n",
       "    <tr>\n",
       "      <th>5</th>\n",
       "      <td>ticket, parking, enjoy, purchase, street, mix_mingle, dance, available, casual, arrive</td>\n",
       "      <td>891</td>\n",
       "    </tr>\n",
       "    <tr>\n",
       "      <th>6</th>\n",
       "      <td>game, play, player, movement, must, tennis, lose, team, drill, field</td>\n",
       "      <td>355</td>\n",
       "    </tr>\n",
       "    <tr>\n",
       "      <th>7</th>\n",
       "      <td>hike, trip, hiking, columbia_university, trail, translation, lunch, drive, masked, mile</td>\n",
       "      <td>56</td>\n",
       "    </tr>\n",
       "  </tbody>\n",
       "</table>\n",
       "</div>"
      ],
      "text/plain": [
       "                                                                                  keywords  \\\n",
       "0  class, practice, learn, free, level, october, mask, student, bring, business              \n",
       "1  people, pay, great, fun, member, attend, ticket, must, purchase, age                      \n",
       "2  rain, park, take, mask, include, street, go, site, see, enjoy                             \n",
       "3  energy, life, meditation, year, body, experience, healing, work, world, create            \n",
       "4  dance, free, party, mask, tango, drink, city, dress, friend, floor                        \n",
       "5  ticket, parking, enjoy, purchase, street, mix_mingle, dance, available, casual, arrive    \n",
       "6  game, play, player, movement, must, tennis, lose, team, drill, field                      \n",
       "7  hike, trip, hiking, columbia_university, trail, translation, lunch, drive, masked, mile   \n",
       "\n",
       "  occurence  \n",
       "0  9744      \n",
       "1  6518      \n",
       "2  3477      \n",
       "3  2621      \n",
       "4  1762      \n",
       "5  891       \n",
       "6  355       \n",
       "7  56        "
      ]
     },
     "execution_count": 32,
     "metadata": {},
     "output_type": "execute_result"
    }
   ],
   "source": [
    "pd.set_option('display.max_colwidth', -1)\n",
    "\n",
    "df_keywords_value_counts"
   ]
  },
  {
   "cell_type": "markdown",
   "metadata": {},
   "source": [
    "Most representative document for each topic."
   ]
  },
  {
   "cell_type": "code",
   "execution_count": 33,
   "metadata": {},
   "outputs": [
    {
     "data": {
      "text/html": [
       "<div>\n",
       "<style scoped>\n",
       "    .dataframe tbody tr th:only-of-type {\n",
       "        vertical-align: middle;\n",
       "    }\n",
       "\n",
       "    .dataframe tbody tr th {\n",
       "        vertical-align: top;\n",
       "    }\n",
       "\n",
       "    .dataframe thead th {\n",
       "        text-align: right;\n",
       "    }\n",
       "</style>\n",
       "<table border=\"1\" class=\"dataframe\">\n",
       "  <thead>\n",
       "    <tr style=\"text-align: right;\">\n",
       "      <th></th>\n",
       "      <th>Topic_Num</th>\n",
       "      <th>Topic_Perc_Contrib</th>\n",
       "      <th>Keywords</th>\n",
       "      <th>Text</th>\n",
       "    </tr>\n",
       "  </thead>\n",
       "  <tbody>\n",
       "    <tr>\n",
       "      <th>0</th>\n",
       "      <td>0.0</td>\n",
       "      <td>0.5242</td>\n",
       "      <td>hike, trip, hiking, columbia_university, trail, translation, lunch, drive, masked, mile</td>\n",
       "      <td>Marlin Fishing in Cuba at the Marina Hemingway Calle 248 Y 5Ta Av. Santa Fe Playa Havana, Cuba :: :: :; Held at Marina Hemingway, 9 miles west of Havana, the Hemingway International Billfishing Tournament hosts fishermen from around the world in pursuit of marlin and other large deep sea fish, including tuna and wahoo, using 50-pound fishing line. More info HERE and HERE.    Repeats 2nd Saturday of every month. :: :: :: Alternate Trip: Deep Sea Fishing in Panama   &amp;lt;iframe width=\"560\" height=\"315\" src=\" frameborder=\"0\" allowfullscreen&amp;gt;&amp;lt;/iframe&amp;gt;</td>\n",
       "    </tr>\n",
       "    <tr>\n",
       "      <th>1</th>\n",
       "      <td>1.0</td>\n",
       "      <td>0.8564</td>\n",
       "      <td>dance, free, party, mask, tango, drink, city, dress, friend, floor</td>\n",
       "      <td>Join us for the party at Monarch rooftop and indoor lounge this Saturday evening! Monarch is a beautiful rooftop lounge with both indoor and outdoor sections. There will be a live DJ and plenty of space to sit, chat, stand, and dance! Entry is free when the doorperson knows you’re with me, Rory. The place gets packed, so try to get in before midnight! We’ll be there starting at 11pm. Be sure to dress up (business casual, no sneakers, no sweatshirts/hoodies, no shorts for men, no large bags/backpacks). The doorpeople are very strict on these policies! There are heaters located outside for warmth. With views of the Empire State Building and Manhattan city lights, this is one of the must-see lounges in NYC. Hope to see you there! Cheers, Rory [masked]) How much: FREE when you tell the doorperson you’re with Rory Date: Every Saturday Time: 11pm - 4am Where: Monarch Rooftop  Indoor Lounge 71 W 35th Street 18th Floor Dress code: Business Casual (absolutely no sneakers, no sweatshirts/hoodies, no shorts for men, no large bags) Subway: 1, 2, 3, B, D, F, N, Q, R, and Path Train to 34th Street</td>\n",
       "    </tr>\n",
       "    <tr>\n",
       "      <th>2</th>\n",
       "      <td>2.0</td>\n",
       "      <td>0.7808</td>\n",
       "      <td>energy, life, meditation, year, body, experience, healing, work, world, create</td>\n",
       "      <td>Bienvenidos al Canto del HU Comunitario! El Canto de HU es una cancion de amor a Dios, y un ejercicio espiritual basico que se practica para el crecimiento espiritual.  Esta abierto a personas de todos los credos y religiones, y el equipo de ECKANKAR lo presenta como servicio comunitario a aquellas personas que desean explorar un poco mas en su camino hacia Dios. Al concluir, hay oportunidad de conversar y conmpartir un refrigerio ligerio con otras personas enfocadas en el crecimiento espiritual.</td>\n",
       "    </tr>\n",
       "    <tr>\n",
       "      <th>3</th>\n",
       "      <td>3.0</td>\n",
       "      <td>0.9157</td>\n",
       "      <td>rain, park, take, mask, include, street, go, site, see, enjoy</td>\n",
       "      <td>6-7 miles; moderate pace on flat terrain. Finish between - PM. Walk along Narrows to Coney Island taking in beautiful views of the bay area along the Narrows. Walk from subway station to pathway along the Narrows to Surf and Stillwell Ave and end by Nathan’s in Coney Island. Subway (D, F, N, and Q) station at end of walk is across the street from Nathan’s. Bring lunch and water or purchase lunch at Caesar’s Bay Bazaar. Meet  AM outside the last stop of R subway line, 95th Street and 4th Ave in Bayridge. Rain cancels. Must call or email to confirm that walk is on. Leader: Edward Leibowitz,[masked]; Email: [masked]; Cell phone[masked] only on day of walk after  AM. Nonmembers of Shorewalkers and Outdoors Club: $3. Joint walk.</td>\n",
       "    </tr>\n",
       "    <tr>\n",
       "      <th>4</th>\n",
       "      <td>4.0</td>\n",
       "      <td>0.9720</td>\n",
       "      <td>people, pay, great, fun, member, attend, ticket, must, purchase, age</td>\n",
       "      <td>*PAY ONLINE (Prepay Only Event) -  Join us for THE OFFICE TRIVIA NIGHT! We had such a big response from our Meetup groups to the last one so we're doing it again! How it works:We will have 4-6 teams and approximately 5 rounds. Work with your teammates to get the most questions right. You are eligible to win some great prizes at the end of the event. Coming alone? No problem! Part of the fun is meeting new friends. We will put you on a team with other fans of The Office! Questions will range from easy to hard... that's what she said ;) Please note: There is a 1-drink minimum purchase at this venue. If you do not drink alcohol you can purchase a non-alcoholic beverage or a food item. RSVPing alone will not get you into this event. You must also purchase in advance (NOT able to pay at door). This is non-age specific event. All are welcome 21+. Multiple Meetup groups are co-organizing this event so don't just go by the RSVPs you see here. We'll have up to 30 members attending. *PURCHASE AT -  *$15-$25 (price goes up as event gets closer). Must Purchase In Advance. Not sold at door **Special - 2 tix for $25. Use discount code \"TWO\" at checkout (must buy 2 for discount)Must Purchase In Advance.</td>\n",
       "    </tr>\n",
       "    <tr>\n",
       "      <th>5</th>\n",
       "      <td>5.0</td>\n",
       "      <td>0.9336</td>\n",
       "      <td>class, practice, learn, free, level, october, mask, student, bring, business</td>\n",
       "      <td>During the course you will learn how to start writing small practical programs using Python. You will get familiar with Python’s fundamentals, How to work with the built-in data structures. This Python workshop starts at 6.00pm - 9.00pm, total In-Class 3hrs, the price is $99 To attend please RSVP at  You will get comfortable with Text editor, Terminal and learn how to use industry Python 3.7. Also, you will write and debug Python code with confidence by building your own modules. No coding experience needed, anyone who would like to learn how to program from scratch, who is thinking about a new career in the programming field or would like to boost a career with new skill, entrepreneurs who want to build web applications, and everyone who wants to know what practical programming is about. Who this program is for:This class is for complete beginners. We will start slowly with basic programming concepts, so everyone could feel comfortable, even if they have no coding experience. All material is laid out in a thoughtful manner, each lesson building on previous ones. Many real–world analogies make the material easy to relate to. You will learn,- How to start using Python- Data types- Conditional statements If and Else- How to write functions- Parsing information with Python- Practice Python to solve the real-world tasks Prerequisites  Preparation,- Laptop</td>\n",
       "    </tr>\n",
       "    <tr>\n",
       "      <th>6</th>\n",
       "      <td>6.0</td>\n",
       "      <td>0.8406</td>\n",
       "      <td>ticket, parking, enjoy, purchase, street, mix_mingle, dance, available, casual, arrive</td>\n",
       "      <td>*PURCHASE AT -  ONLY EVENT. Tickets will NOT be sold at door. Grab your friends or come alone and get ready to enjoy an experience you won't forget! Sail through the city and take in the sights while you enjoy music and drinks for the night. Mix, mingle, drink  dance the night away with a panoramic view of the NYC skyline, Statue Of Liberty, Brooklyn Bridge, Freedom Tower etc. on a 100 ft, 2-deck private yacht. This is a multi-Meetup and very popular event! 150+ already prepaid! It will SELL OUT so if you'd like to attend, please get your ticket ASAP. * Live DJ  Dance Floor (DJ Plays All The Top Hits)* All Ages (21  Over) Are Welcome To Attend* About 75% Come Alone So Don't Worry If You're Coming By Yourself!* 2 Fully Stocked Cash Bars So You Can Enjoy Amazing Cocktails* Dress Code - Neat and/or Stylish - No Tank Tops, Gym Wear Or Hats* A Wide Assortment Of Food Is Available For Purchase On The Yacht* Please Arrive No Later Than The Listed Event Start Time *50% off limited tickets available for $25 ($50 otherwise). Price will go up as event gets closer, so get yours today! • The boat will sail rain or shine! The boat has two levels. The main level is enclosed and there is an outside deck on the second level. Boarding starts at pm and boat departs by pm. • There is paid parking at the marina, or you can try to find parking on the street. To get street parking, please arrive early to look around. By subway, take 6, N, R lines to 23rd Street, walk 4 blocks east - the Marina will be in front of you. • You must get your ticket in advance. RSVPing without pre-payment will not get you into the event. We're expecting a sell out. *PURCHASE HERE (NOT sold at door) -</td>\n",
       "    </tr>\n",
       "    <tr>\n",
       "      <th>7</th>\n",
       "      <td>7.0</td>\n",
       "      <td>0.5437</td>\n",
       "      <td>game, play, player, movement, must, tennis, lose, team, drill, field</td>\n",
       "      <td>At Offside Tavern on 14th  7th! Play Dreamcast, Playstation, NES, SNES, Gameboy, TurboGrafix 16, Genesis, 32x, Sega CD, Atari, N64, Neo-Geo, PSP and TONS of ARCADE Classics!Gamecube  Wii will be supported as well but emulation speed varies greatly. That means Goldeneye, Mario Kart 64, Sonic, Mario, Metroid, street fighter, Mortal Kombat, Castlevania, TMNT the arcade games! Like events like these? Join the Digital Gamers Union Meetup!Meetup:   Wednesday join us for a Retro Gaming night of Beat'em ups! Please tip our amazing bartenders as this is how they make a living! Suggestions are welcome! Bring games you would like to play!Bring your Nintendo Switches and 3DS!Bring your VR tech demos!Bring your favorite Table-Top games! For those that just want to come and see, there will be demos, trivia and multiplayer games available as well! Gaming Rules:Each Player gets 1 life and must queue up in order to play each game.Fighting Games is 5 mins per person or single loss. Trivia Rules:Games should be played in even groups, including single player games. Each member will take turnsIf games are in progress, add or remove players in teams accordingly.NO SWITCHING SIDES!Changes to scheduled games will be made by hand votes. (ie. More time for Mario Kart) Switch Homebrew! Lakka (Linux + Retroarch)  Atmosphere CFW on site!</td>\n",
       "    </tr>\n",
       "  </tbody>\n",
       "</table>\n",
       "</div>"
      ],
      "text/plain": [
       "   Topic_Num  Topic_Perc_Contrib  \\\n",
       "0  0.0        0.5242               \n",
       "1  1.0        0.8564               \n",
       "2  2.0        0.7808               \n",
       "3  3.0        0.9157               \n",
       "4  4.0        0.9720               \n",
       "5  5.0        0.9336               \n",
       "6  6.0        0.8406               \n",
       "7  7.0        0.5437               \n",
       "\n",
       "                                                                                  Keywords  \\\n",
       "0  hike, trip, hiking, columbia_university, trail, translation, lunch, drive, masked, mile   \n",
       "1  dance, free, party, mask, tango, drink, city, dress, friend, floor                        \n",
       "2  energy, life, meditation, year, body, experience, healing, work, world, create            \n",
       "3  rain, park, take, mask, include, street, go, site, see, enjoy                             \n",
       "4  people, pay, great, fun, member, attend, ticket, must, purchase, age                      \n",
       "5  class, practice, learn, free, level, october, mask, student, bring, business              \n",
       "6  ticket, parking, enjoy, purchase, street, mix_mingle, dance, available, casual, arrive    \n",
       "7  game, play, player, movement, must, tennis, lose, team, drill, field                      \n",
       "\n",
       "                                                                                                                                                                                                                                                                                                                                                                                                                                                                                                                                                                                                                                                                                                                                                                                                                                                                                                                                                                                                                                                                                                                                                                                                                                                                                                                                                                                                                                                                                                                                                                                                                                                                                                                                                    Text  \n",
       "0  Marlin Fishing in Cuba at the Marina Hemingway Calle 248 Y 5Ta Av. Santa Fe Playa Havana, Cuba :: :: :; Held at Marina Hemingway, 9 miles west of Havana, the Hemingway International Billfishing Tournament hosts fishermen from around the world in pursuit of marlin and other large deep sea fish, including tuna and wahoo, using 50-pound fishing line. More info HERE and HERE.    Repeats 2nd Saturday of every month. :: :: :: Alternate Trip: Deep Sea Fishing in Panama   &lt;iframe width=\"560\" height=\"315\" src=\" frameborder=\"0\" allowfullscreen&gt;&lt;/iframe&gt;                                                                                                                                                                                                                                                                                                                                                                                                                                                                                                                                                                                                                                                                                                                                                                                                                                                                                                                                                                                                                                                                                                                                                                      \n",
       "1  Join us for the party at Monarch rooftop and indoor lounge this Saturday evening! Monarch is a beautiful rooftop lounge with both indoor and outdoor sections. There will be a live DJ and plenty of space to sit, chat, stand, and dance! Entry is free when the doorperson knows you’re with me, Rory. The place gets packed, so try to get in before midnight! We’ll be there starting at 11pm. Be sure to dress up (business casual, no sneakers, no sweatshirts/hoodies, no shorts for men, no large bags/backpacks). The doorpeople are very strict on these policies! There are heaters located outside for warmth. With views of the Empire State Building and Manhattan city lights, this is one of the must-see lounges in NYC. Hope to see you there! Cheers, Rory [masked]) How much: FREE when you tell the doorperson you’re with Rory Date: Every Saturday Time: 11pm - 4am Where: Monarch Rooftop  Indoor Lounge 71 W 35th Street 18th Floor Dress code: Business Casual (absolutely no sneakers, no sweatshirts/hoodies, no shorts for men, no large bags) Subway: 1, 2, 3, B, D, F, N, Q, R, and Path Train to 34th Street                                                                                                                                                                                                                                                                                                                                                                                                                                                                                                                                                                                                           \n",
       "2  Bienvenidos al Canto del HU Comunitario! El Canto de HU es una cancion de amor a Dios, y un ejercicio espiritual basico que se practica para el crecimiento espiritual.  Esta abierto a personas de todos los credos y religiones, y el equipo de ECKANKAR lo presenta como servicio comunitario a aquellas personas que desean explorar un poco mas en su camino hacia Dios. Al concluir, hay oportunidad de conversar y conmpartir un refrigerio ligerio con otras personas enfocadas en el crecimiento espiritual.                                                                                                                                                                                                                                                                                                                                                                                                                                                                                                                                                                                                                                                                                                                                                                                                                                                                                                                                                                                                                                                                                                                                                                                                                                  \n",
       "3  6-7 miles; moderate pace on flat terrain. Finish between - PM. Walk along Narrows to Coney Island taking in beautiful views of the bay area along the Narrows. Walk from subway station to pathway along the Narrows to Surf and Stillwell Ave and end by Nathan’s in Coney Island. Subway (D, F, N, and Q) station at end of walk is across the street from Nathan’s. Bring lunch and water or purchase lunch at Caesar’s Bay Bazaar. Meet  AM outside the last stop of R subway line, 95th Street and 4th Ave in Bayridge. Rain cancels. Must call or email to confirm that walk is on. Leader: Edward Leibowitz,[masked]; Email: [masked]; Cell phone[masked] only on day of walk after  AM. Nonmembers of Shorewalkers and Outdoors Club: $3. Joint walk.                                                                                                                                                                                                                                                                                                                                                                                                                                                                                                                                                                                                                                                                                                                                                                                                                                                                                                                                                                                          \n",
       "4  *PAY ONLINE (Prepay Only Event) -  Join us for THE OFFICE TRIVIA NIGHT! We had such a big response from our Meetup groups to the last one so we're doing it again! How it works:We will have 4-6 teams and approximately 5 rounds. Work with your teammates to get the most questions right. You are eligible to win some great prizes at the end of the event. Coming alone? No problem! Part of the fun is meeting new friends. We will put you on a team with other fans of The Office! Questions will range from easy to hard... that's what she said ;) Please note: There is a 1-drink minimum purchase at this venue. If you do not drink alcohol you can purchase a non-alcoholic beverage or a food item. RSVPing alone will not get you into this event. You must also purchase in advance (NOT able to pay at door). This is non-age specific event. All are welcome 21+. Multiple Meetup groups are co-organizing this event so don't just go by the RSVPs you see here. We'll have up to 30 members attending. *PURCHASE AT -  *$15-$25 (price goes up as event gets closer). Must Purchase In Advance. Not sold at door **Special - 2 tix for $25. Use discount code \"TWO\" at checkout (must buy 2 for discount)Must Purchase In Advance.                                                                                                                                                                                                                                                                                                                                                                                                                                                                                                \n",
       "5  During the course you will learn how to start writing small practical programs using Python. You will get familiar with Python’s fundamentals, How to work with the built-in data structures. This Python workshop starts at 6.00pm - 9.00pm, total In-Class 3hrs, the price is $99 To attend please RSVP at  You will get comfortable with Text editor, Terminal and learn how to use industry Python 3.7. Also, you will write and debug Python code with confidence by building your own modules. No coding experience needed, anyone who would like to learn how to program from scratch, who is thinking about a new career in the programming field or would like to boost a career with new skill, entrepreneurs who want to build web applications, and everyone who wants to know what practical programming is about. Who this program is for:This class is for complete beginners. We will start slowly with basic programming concepts, so everyone could feel comfortable, even if they have no coding experience. All material is laid out in a thoughtful manner, each lesson building on previous ones. Many real–world analogies make the material easy to relate to. You will learn,- How to start using Python- Data types- Conditional statements If and Else- How to write functions- Parsing information with Python- Practice Python to solve the real-world tasks Prerequisites  Preparation,- Laptop                                                                                                                                                                                                                                                                                                                          \n",
       "6  *PURCHASE AT -  ONLY EVENT. Tickets will NOT be sold at door. Grab your friends or come alone and get ready to enjoy an experience you won't forget! Sail through the city and take in the sights while you enjoy music and drinks for the night. Mix, mingle, drink  dance the night away with a panoramic view of the NYC skyline, Statue Of Liberty, Brooklyn Bridge, Freedom Tower etc. on a 100 ft, 2-deck private yacht. This is a multi-Meetup and very popular event! 150+ already prepaid! It will SELL OUT so if you'd like to attend, please get your ticket ASAP. * Live DJ  Dance Floor (DJ Plays All The Top Hits)* All Ages (21  Over) Are Welcome To Attend* About 75% Come Alone So Don't Worry If You're Coming By Yourself!* 2 Fully Stocked Cash Bars So You Can Enjoy Amazing Cocktails* Dress Code - Neat and/or Stylish - No Tank Tops, Gym Wear Or Hats* A Wide Assortment Of Food Is Available For Purchase On The Yacht* Please Arrive No Later Than The Listed Event Start Time *50% off limited tickets available for $25 ($50 otherwise). Price will go up as event gets closer, so get yours today! • The boat will sail rain or shine! The boat has two levels. The main level is enclosed and there is an outside deck on the second level. Boarding starts at pm and boat departs by pm. • There is paid parking at the marina, or you can try to find parking on the street. To get street parking, please arrive early to look around. By subway, take 6, N, R lines to 23rd Street, walk 4 blocks east - the Marina will be in front of you. • You must get your ticket in advance. RSVPing without pre-payment will not get you into the event. We're expecting a sell out. *PURCHASE HERE (NOT sold at door) -   \n",
       "7  At Offside Tavern on 14th  7th! Play Dreamcast, Playstation, NES, SNES, Gameboy, TurboGrafix 16, Genesis, 32x, Sega CD, Atari, N64, Neo-Geo, PSP and TONS of ARCADE Classics!Gamecube  Wii will be supported as well but emulation speed varies greatly. That means Goldeneye, Mario Kart 64, Sonic, Mario, Metroid, street fighter, Mortal Kombat, Castlevania, TMNT the arcade games! Like events like these? Join the Digital Gamers Union Meetup!Meetup:   Wednesday join us for a Retro Gaming night of Beat'em ups! Please tip our amazing bartenders as this is how they make a living! Suggestions are welcome! Bring games you would like to play!Bring your Nintendo Switches and 3DS!Bring your VR tech demos!Bring your favorite Table-Top games! For those that just want to come and see, there will be demos, trivia and multiplayer games available as well! Gaming Rules:Each Player gets 1 life and must queue up in order to play each game.Fighting Games is 5 mins per person or single loss. Trivia Rules:Games should be played in even groups, including single player games. Each member will take turnsIf games are in progress, add or remove players in teams accordingly.NO SWITCHING SIDES!Changes to scheduled games will be made by hand votes. (ie. More time for Mario Kart) Switch Homebrew! Lakka (Linux + Retroarch)  Atmosphere CFW on site!                                                                                                                                                                                                                                                                                                                                                                     "
      ]
     },
     "execution_count": 33,
     "metadata": {},
     "output_type": "execute_result"
    }
   ],
   "source": [
    "# Group top 5 sentences under each topic\n",
    "sent_topics_sorteddf_mallet = pd.DataFrame()\n",
    "\n",
    "sent_topics_outdf_grpd = df_topic_keywords.groupby('Dominant_Topic')\n",
    "\n",
    "for i, grp in sent_topics_outdf_grpd:\n",
    "    sent_topics_sorteddf_mallet = pd.concat([sent_topics_sorteddf_mallet, \n",
    "                                             grp.sort_values(['Perc_Contribution'], ascending=[0]).head(1)], \n",
    "                                            axis=0)\n",
    "\n",
    "# Reset Index    \n",
    "sent_topics_sorteddf_mallet.reset_index(drop=True, inplace=True)\n",
    "\n",
    "# Format\n",
    "sent_topics_sorteddf_mallet.columns = ['Topic_Num', \"Topic_Perc_Contrib\", \"Keywords\", \"Text\"]\n",
    "\n",
    "# Show\n",
    "sent_topics_sorteddf_mallet"
   ]
  },
  {
   "cell_type": "code",
   "execution_count": 31,
   "metadata": {},
   "outputs": [],
   "source": [
    "sent_topics_sorteddf_mallet.to_csv('representative_topics_text.csv')"
   ]
  },
  {
   "cell_type": "code",
   "execution_count": null,
   "metadata": {},
   "outputs": [],
   "source": []
  },
  {
   "cell_type": "code",
   "execution_count": null,
   "metadata": {},
   "outputs": [],
   "source": []
  },
  {
   "cell_type": "code",
   "execution_count": null,
   "metadata": {},
   "outputs": [],
   "source": []
  },
  {
   "cell_type": "code",
   "execution_count": null,
   "metadata": {},
   "outputs": [],
   "source": []
  },
  {
   "cell_type": "code",
   "execution_count": null,
   "metadata": {},
   "outputs": [],
   "source": []
  },
  {
   "cell_type": "code",
   "execution_count": null,
   "metadata": {},
   "outputs": [],
   "source": [
    "df.columns"
   ]
  },
  {
   "cell_type": "code",
   "execution_count": null,
   "metadata": {},
   "outputs": [],
   "source": [
    "df.yes_rsvp_count.describe()"
   ]
  },
  {
   "cell_type": "code",
   "execution_count": null,
   "metadata": {},
   "outputs": [],
   "source": [
    "len(df)"
   ]
  },
  {
   "cell_type": "code",
   "execution_count": null,
   "metadata": {},
   "outputs": [],
   "source": [
    "df_merged = pd.concat([df_dominant_topic, df], axis=1)"
   ]
  },
  {
   "cell_type": "code",
   "execution_count": null,
   "metadata": {},
   "outputs": [],
   "source": [
    "df_merged.columns"
   ]
  },
  {
   "cell_type": "code",
   "execution_count": null,
   "metadata": {
    "scrolled": true
   },
   "outputs": [],
   "source": [
    "df_merged[df_merged['yes_rsvp_count']==0]"
   ]
  },
  {
   "cell_type": "code",
   "execution_count": null,
   "metadata": {},
   "outputs": [],
   "source": [
    "df_merged_sorted = df_merged.sort_values(by = 'Topic_Perc_Contrib' )"
   ]
  },
  {
   "cell_type": "code",
   "execution_count": null,
   "metadata": {},
   "outputs": [],
   "source": [
    "df_merged_sorted.drop_duplicates()"
   ]
  },
  {
   "cell_type": "code",
   "execution_count": null,
   "metadata": {},
   "outputs": [],
   "source": []
  }
 ],
 "metadata": {
  "kernelspec": {
   "display_name": "Python 3",
   "language": "python",
   "name": "python3"
  },
  "language_info": {
   "codemirror_mode": {
    "name": "ipython",
    "version": 3
   },
   "file_extension": ".py",
   "mimetype": "text/x-python",
   "name": "python",
   "nbconvert_exporter": "python",
   "pygments_lexer": "ipython3",
   "version": "3.7.1"
  }
 },
 "nbformat": 4,
 "nbformat_minor": 2
}
